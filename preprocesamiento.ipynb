{
 "cells": [
  {
   "cell_type": "code",
   "execution_count": 1,
   "metadata": {},
   "outputs": [],
   "source": [
    "import pandas as pd\n",
    "import spacy"
   ]
  },
  {
   "cell_type": "code",
   "execution_count": 2,
   "metadata": {},
   "outputs": [],
   "source": [
    "#Carga del modelo en español de Spacy\n",
    "nlp = spacy.load('es_core_news_sm')"
   ]
  },
  {
   "cell_type": "code",
   "execution_count": 8,
   "metadata": {},
   "outputs": [],
   "source": [
    "#Lectura de datos\n",
    "df = pd.read_excel(\"extraccion.xlsx\", engine = 'openpyxl')\n",
    "titulos = df[\"titulo\"]"
   ]
  },
  {
   "cell_type": "code",
   "execution_count": 12,
   "metadata": {},
   "outputs": [],
   "source": [
    "tags = ['NOUN','ADJ', 'VERB']"
   ]
  },
  {
   "cell_type": "code",
   "execution_count": 15,
   "metadata": {},
   "outputs": [],
   "source": [
    "preprotitle=[]\n",
    "title_lemma=[]\n",
    "for title in titulos:\n",
    "    normalize= nlp(title)\n",
    "    for token in normalize:\n",
    "        if token.pos_ in tags:\n",
    "            title_lemma.append(token)\n",
    "    preprotitle.append(title_lemma)\n",
    "\n",
    "for row in preprotitle:\n",
    "    for title in row:\n",
    "        for token in title:\n",
    "            print(f'Token: {token.text}, Lema: {token.lemma_}, Parte de discurso: {token.pos_}')"
   ]
  }
 ],
 "metadata": {
  "kernelspec": {
   "display_name": "Python 3",
   "language": "python",
   "name": "python3"
  },
  "language_info": {
   "codemirror_mode": {
    "name": "ipython",
    "version": 3
   },
   "file_extension": ".py",
   "mimetype": "text/x-python",
   "name": "python",
   "nbconvert_exporter": "python",
   "pygments_lexer": "ipython3",
   "version": "3.8.10"
  },
  "orig_nbformat": 4
 },
 "nbformat": 4,
 "nbformat_minor": 2
}
