{
 "cells": [
  {
   "cell_type": "code",
   "execution_count": 2,
   "metadata": {},
   "outputs": [
    {
     "name": "stdout",
     "output_type": "stream",
     "text": [
      "196\n"
     ]
    }
   ],
   "source": [
    "import os\n",
    "import glob\n",
    "import re\n",
    "import pandas as pd\n",
    "import numpy as np\n",
    "import PyPDF2\n",
    "\n",
    "path = os.getcwd()\n",
    "pdf_files = glob.glob(path + \"/Protocolos/*.pdf\")\n",
    "print(len(pdf_files))"
   ]
  },
  {
   "cell_type": "code",
   "execution_count": 3,
   "metadata": {},
   "outputs": [
    {
     "name": "stdout",
     "output_type": "stream",
     "text": [
      "357\n"
     ]
    }
   ],
   "source": [
    "pdf_files_revisar = glob.glob(path + \"/Protocolos/Revisar/*.pdf\")\n",
    "print(len(pdf_files_revisar))"
   ]
  },
  {
   "cell_type": "code",
   "execution_count": 4,
   "metadata": {},
   "outputs": [
    {
     "name": "stdout",
     "output_type": "stream",
     "text": [
      "Proceso 1\n",
      "196/196\r"
     ]
    }
   ],
   "source": [
    "def convert_pdf_to_txt(path):\n",
    "    pdf_file = open(path, 'rb')\n",
    "    read_pdf = PyPDF2.PdfReader(pdf_file)\n",
    "    number_of_pages = len(read_pdf.pages)\n",
    "    page_content = \"\"\n",
    "    for page_number in range(number_of_pages):\n",
    "        page = read_pdf.pages[page_number]\n",
    "        page_content += page.extract_text()\n",
    "    pdf_file.close()\n",
    "    return page_content\n",
    "\n",
    "text = []\n",
    "text_revisar = []\n",
    "index=1\n",
    "\n",
    "print(\"Proceso 1\")\n",
    "for i in pdf_files:\n",
    "    print(f\"{index}/{len(pdf_files)}\", end='\\r')\n",
    "    text.append(convert_pdf_to_txt(i))\n",
    "    index+=1\n",
    "    \n",
    "# print(\"Proceso 2\")\n",
    "# index=1\n",
    "# for i in pdf_files_revisar:\n",
    "#     print(f\"{index}/{len(pdf_files_revisar)}\", end='\\r')\n",
    "#     text_revisar.append(convert_pdf_to_txt(i))\n",
    "#     index+=1"
   ]
  },
  {
   "cell_type": "code",
   "execution_count": 62,
   "metadata": {},
   "outputs": [],
   "source": [
    "def get_title(documento):\n",
    "    if re.search(r\"Trabajo\\s*Terminal\\s*No\\.?\", documento, flags = re.IGNORECASE):\n",
    "        documento = re.split(r'Trabajo\\s*Terminal\\s*No\\.?', documento, maxsplit=1, flags = re.IGNORECASE | re.MULTILINE)\n",
    "    else: \n",
    "        documento = re.split(r'Trabajo\\s*Terminal', documento, maxsplit=1, flags = re.IGNORECASE | re.MULTILINE)\n",
    "    documento = documento[0]\n",
    "    documento = re.sub(r'\\n', '', documento)\n",
    "    documento = re.sub(r'^[^a-zA-Z]+', '', documento)\n",
    "    documento = re.sub(r'\\s{2,}', ' ', documento)\n",
    "    documento = re.sub(r'^\\s+', '', documento)\n",
    "    documento = re.sub(r'\\s+$', '', documento)\n",
    "    return documento\n",
    "\n",
    "def get_ttnum(documento):\n",
    "    if re.search(r\"Trabajo\\s*Terminal\\s*No\\.?\", documento, flags = re.IGNORECASE):\n",
    "        documento = re.split(r'Trabajo\\s*Terminal\\s*No\\.?', documento, maxsplit=1, flags = re.IGNORECASE | re.MULTILINE)\n",
    "    else: \n",
    "        documento = re.split(r'Trabajo\\s*Terminal', documento, maxsplit=1, flags = re.IGNORECASE | re.MULTILINE)\n",
    "    documento = documento[1]\n",
    "    if re.search(r'Alumno+[s]?', documento, flags = re.IGNORECASE):\n",
    "        documento = re.split('Alumno+[s]?', documento, flags = re.IGNORECASE)\n",
    "    elif re.search(r'Integrante+[s]?', documento, flags = re.IGNORECASE):\n",
    "        documento = re.split('Integrante+[s]?', documento, flags = re.IGNORECASE)\n",
    "    # abstract = get_abstract(documento[1])\n",
    "    documento = documento[0]\n",
    "    documento = re.sub(r' ', '', documento)\n",
    "    documento = re.sub(r'\\n', '', documento)\n",
    "    documento = re.sub(r'No\\W*', '', documento)\n",
    "    documento = documento.replace('_', '')\n",
    "    if re.search(r'^\\d{4}[a-zA-Z]\\d{3}$', documento):\n",
    "        documento = documento[:4] + '-' + documento[4:]\n",
    "    if not re.match(r'^\\d{4}-[a-zA-Z]\\d{3}$', documento):\n",
    "        documento = '-'\n",
    "    return documento.upper()\n",
    "\n",
    "def get_abstract(documento):\n",
    "    documento = re.split(r\"Resumen\", documento, maxsplit=1, flags = re.IGNORECASE | re.MULTILINE)\n",
    "    documento = documento[1]\n",
    "    documento = re.split(r\"Palabras\\s*clave\", documento, maxsplit=1, flags = re.IGNORECASE | re.MULTILINE)\n",
    "    documento = documento[0]\n",
    "    documento = re.sub(r'\\n', '', documento)\n",
    "    documento = re.sub(r'\\s{2,}', ' ', documento)\n",
    "    documento = re.sub(r'^[^a-zA-Z]+', '', documento)\n",
    "    documento = re.sub(r'\\s+$', '', documento)\n",
    "    return documento\n",
    "\n",
    "def get_director(documento):\n",
    "    stopword_directores = ['\\s*M\\.*\\s*[e]?[n]?\\s*C\\.*\\s+', '\\s*Dr[a]*\\.?\\s+','\\s*M\\.*\\s*[e]?[n]?\\s*(ing)\\.*\\s+', '\\s*Dr[a]*\\.?\\s+[e]?[n]?\\s*C\\.*\\s+']\n",
    "    stopwords = [re.compile(i, flags = re.IGNORECASE | re.MULTILINE) for i in stopword_directores]\n",
    "    documento = re.split(r\"director[es]?\", documento, maxsplit=1, flags = re.IGNORECASE | re.MULTILINE)\n",
    "    documento = documento[1]\n",
    "    documento = re.split(r'Resumen', documento, maxsplit = 1, flags = re.IGNORECASE | re.MULTILINE)\n",
    "    documento = documento[0]\n",
    "    documento = re.sub(r'\\n', '', documento)\n",
    "    documento = re.split(r\":\", documento, maxsplit=1, flags = re.IGNORECASE | re.MULTILINE)\n",
    "    documento = documento[1]\n",
    "    if re.search(r\"e\\s*[-]*\\s*mail\", documento, flags = re.IGNORECASE):\n",
    "        documento = re.split(r\"e\\s*[-]*\\s*mail\", documento, maxsplit=1, flags = re.IGNORECASE | re.MULTILINE)\n",
    "        documento = documento[0]\n",
    "    documento = re.sub(r'\\*', '', documento)\n",
    "    documento = re.sub(r'\\s{2,}', ' ', documento)\n",
    "    documento = re.sub(r'^[^a-zA-Z]+', '', documento)\n",
    "    documento = re.sub(r'\\s+$', '', documento)\n",
    "    documento = re.sub(r'\\w+@[^@]+\\.[a-zA-Z]{2,}', '', documento)\n",
    "    if re.search(r\"turno\", documento, flags = re.IGNORECASE):\n",
    "        documento = re.split(r\"turno\", documento, maxsplit=1, flags = re.IGNORECASE | re.MULTILINE)\n",
    "        documento = documento[0]\n",
    "    for stopword in stopwords:\n",
    "        documento = re.sub(stopword, '', documento)\n",
    "    documento = documento.split(',')\n",
    "    documento = [i.strip() for i in documento]\n",
    "    return documento\n",
    "\n",
    "def get_keywords(documento):\n",
    "    documento = re.split(r\"Palabra[s]?\\s*Clave[s]?\\.?\", documento, maxsplit=1, flags = re.IGNORECASE | re.MULTILINE)\n",
    "    documento = documento[1]\n",
    "    documento = re.split(r\"\\.\", documento, maxsplit=1, flags = re.IGNORECASE | re.MULTILINE)\n",
    "    documento = documento[0]\n",
    "    documento = re.sub(r'^[^a-zA-Z]+', '', documento)\n",
    "    documento = re.sub(' +', ' ', documento)\n",
    "    documento = re.sub(r'\\n', '', documento)\n",
    "    documento = re.split(r\"\\,\", documento, flags = re.IGNORECASE | re.MULTILINE)\n",
    "    documento = [i.strip() for i in documento]\n",
    "    documento = [i for i in documento if len(i) < 30]\n",
    "    return documento\n",
    "\n",
    "def get_areas(documento):\n",
    "    directores = get_director(documento)\n",
    "    areas = [''] * len(directores)\n",
    "    for j in range(len(directores)):\n",
    "        try:\n",
    "            areas[j] = re.split(directores[j], documento, flags = re.IGNORECASE | re.MULTILINE)\n",
    "            areas[j] = areas[j][2]\n",
    "        except:\n",
    "            try:\n",
    "                directores[j] = re.sub(r'á', 'a', directores[j], flags = re.IGNORECASE)\n",
    "                directores[j] = re.sub(r'é', 'e', directores[j], flags = re.IGNORECASE)\n",
    "                directores[j] = re.sub(r'í', 'i', directores[j], flags = re.IGNORECASE)\n",
    "                directores[j] = re.sub(r'ó', 'o', directores[j], flags = re.IGNORECASE)\n",
    "                directores[j] = re.sub(r'ú', 'u', directores[j], flags = re.IGNORECASE)\n",
    "                areas[j] = re.split(directores[j], documento, flags = re.IGNORECASE | re.MULTILINE)\n",
    "                areas[j] = areas[j][1]\n",
    "            except:\n",
    "                areas[j] = '-'\n",
    "        finally:\n",
    "            if not areas[j] == '-':\n",
    "                areas[j] = re.split(r\"Firma\", areas[j], flags = re.IGNORECASE | re.MULTILINE)    \n",
    "                areas[j] = areas[j][0]\n",
    "                if re.search(r'[Á]?[A]?rea[s]?\\s*(de)?\\s*inter[e]?[é]?s', areas[j], flags = re.IGNORECASE):\n",
    "                    areas[j] = re.split(r'[Á]?[A]?rea[s]?\\s*de\\s*inter[e]?[é]?s', areas[j], flags = re.IGNORECASE | re.MULTILINE)\n",
    "                    areas[j] = areas[j][1]\n",
    "                    areas[j] = re.split(r\"\\.\", areas[j], maxsplit=1, flags = re.IGNORECASE | re.MULTILINE)\n",
    "                    areas[j] = areas[j][0]\n",
    "                    areas[j] = re.sub(r'^[^a-zA-Z]+', '', areas[j])\n",
    "                    areas[j] = re.sub(r'\\s{2,}', ' ', areas[j])\n",
    "                    areas[j] = re.sub(r'\\n', '', areas[j])\n",
    "                    areas[j] = re.split(r\"\\,\", areas[j], flags = re.IGNORECASE | re.MULTILINE)\n",
    "                    areas[j] = [i.strip() for i in areas[j]]\n",
    "                else:\n",
    "                    areas[j] = '-'\n",
    "    return areas\n",
    "\n",
    "\n",
    "def get_objetivo(documento):\n",
    "    objetivoGeneral = ''\n",
    "    i=1\n",
    "    while len(objetivoGeneral)<50:\n",
    "        objetivo = re.split(r\"[1-9]\\.?\\s*[-]?\\s*O\\s*b\\s*j\\s*e\\s*t\\s*i\\s*v\\s*o\", documento, maxsplit=i, flags = re.IGNORECASE | re.MULTILINE)\n",
    "        objetivo = objetivo[i]\n",
    "        objetivo = re.split(r\"[2-9]\\.?\\s*[-]?\\s*J\\s*u\\s*s\\s*t\\s*i\\s*f\\s*i\\s*c\\s*a\\s*c\\s*i\\s*[o]?\\s*[ó]?\\s*n\", objetivo, maxsplit=1, flags = re.IGNORECASE | re.MULTILINE)\n",
    "        objetivo = objetivo[0]\n",
    "        objetivo = objetivo.replace('\\n', '')\n",
    "        objetivo = re.sub(' +', ' ', objetivo)\n",
    "        if re.search(r\"espec[i]?[í]?fico[s]?\", objetivo, flags = re.IGNORECASE | re.MULTILINE):\n",
    "            objetivoGeneral = re.split(r\"espec[i]?[í]?fico[s]?\", objetivo, maxsplit=1, flags = re.IGNORECASE | re.MULTILINE)\n",
    "        elif re.search(r\"particular[e]?[s]?\", objetivo, flags = re.IGNORECASE | re.MULTILINE):\n",
    "            objetivoGeneral = re.split(r\"particular[e]?[s]?\", objetivo, maxsplit=1, flags = re.IGNORECASE | re.MULTILINE)\n",
    "        elif re.search(r\"secundario[s]?\", objetivo, flags = re.IGNORECASE | re.MULTILINE):\n",
    "            objetivoGeneral = re.split(r\"secundario[s]?\", objetivo, maxsplit=1, flags = re.IGNORECASE | re.MULTILINE)\n",
    "        try:\n",
    "            objetivosEspecificos = objetivoGeneral[1]\n",
    "            objetivoGeneral = objetivoGeneral[0]\n",
    "        except:\n",
    "            objetivosEspecificos = '-'\n",
    "            objetivoGeneral = objetivo\n",
    "        if len(objetivoGeneral) < 50:\n",
    "            i+=1\n",
    "\n",
    "    objetivoGeneral = re.sub(r'', '', objetivoGeneral)\n",
    "    objetivoGeneral = re.sub(r'•', '', objetivoGeneral)\n",
    "    objetivoGeneral = re.sub(r'◦', '', objetivoGeneral)\n",
    "    objetivoGeneral = re.sub(r'○', '', objetivoGeneral)\n",
    "    objetivoGeneral = re.sub(r'◘', '', objetivoGeneral)\n",
    "    objetivoGeneral = re.sub(r'◙', '', objetivoGeneral)\n",
    "    objetivoGeneral = re.sub(r'◈', '', objetivoGeneral)\n",
    "    objetivoGeneral = re.sub(r'◇', '', objetivoGeneral)\n",
    "    objetivoGeneral = re.sub(r'◆', '', objetivoGeneral)\n",
    "    objetivoGeneral = re.sub(r'◄', '', objetivoGeneral)\n",
    "    objetivoGeneral = re.sub(r'►', '', objetivoGeneral)\n",
    "    objetivoGeneral = re.sub(r'▲', '', objetivoGeneral)\n",
    "    objetivoGeneral = re.sub(r'▼', '', objetivoGeneral)\n",
    "    objetivoGeneral = re.sub(r'▶', '', objetivoGeneral)\n",
    "    objetivoGeneral = re.sub(r'◀', '', objetivoGeneral)\n",
    "\n",
    "    objetivosEspecificos = re.sub(r'', '', objetivosEspecificos)\n",
    "    objetivosEspecificos = re.sub(r'•', '', objetivosEspecificos)\n",
    "    objetivosEspecificos = re.sub(r'◦', '', objetivosEspecificos)\n",
    "    objetivosEspecificos = re.sub(r'○', '', objetivosEspecificos)\n",
    "    objetivosEspecificos = re.sub(r'◘', '', objetivosEspecificos)\n",
    "    objetivosEspecificos = re.sub(r'◙', '', objetivosEspecificos)\n",
    "    objetivosEspecificos = re.sub(r'◈', '', objetivosEspecificos)\n",
    "    objetivosEspecificos = re.sub(r'◇', '', objetivosEspecificos)\n",
    "    objetivosEspecificos = re.sub(r'◆', '', objetivosEspecificos)\n",
    "    objetivosEspecificos = re.sub(r'◄', '', objetivosEspecificos)\n",
    "    objetivosEspecificos = re.sub(r'►', '', objetivosEspecificos)\n",
    "    objetivosEspecificos = re.sub(r'▲', '', objetivosEspecificos)\n",
    "    objetivosEspecificos = re.sub(r'▼', '', objetivosEspecificos)\n",
    "    objetivosEspecificos = re.sub(r'▶', '', objetivosEspecificos)\n",
    "    objetivosEspecificos = re.sub(r'◀', '', objetivosEspecificos)\n",
    "    objetivosEspecificos = re.sub(r'●', '', objetivosEspecificos)\n",
    "    \n",
    "    objetivoGeneral = re.sub(r' +', ' ', objetivoGeneral)\n",
    "    objetivosEspecificos = re.sub(r' +', ' ', objetivosEspecificos)\n",
    "    return objetivoGeneral, objetivosEspecificos"
   ]
  },
  {
   "cell_type": "code",
   "execution_count": 58,
   "metadata": {},
   "outputs": [],
   "source": [
    "def get_all_info(documento):\n",
    "    titulo = get_title(documento)\n",
    "    ntt= get_ttnum(documento)\n",
    "    abstract = get_abstract(documento)\n",
    "    keywords = get_keywords(documento)\n",
    "    directores = get_director(documento)\n",
    "    areas = get_areas(documento)\n",
    "    objetivosG, objetivosE = get_objetivo(documento)\n",
    "\n",
    "    return titulo, ntt, directores, areas, keywords, abstract, objetivosG, objetivosE"
   ]
  },
  {
   "cell_type": "code",
   "execution_count": 34,
   "metadata": {},
   "outputs": [
    {
     "data": {
      "text/plain": [
       "' \\n1 \\n Prototipo de aplicación de identificación y reporte de baches en la Ciudad de México.  \\nTrabajo Terminal 2019‐B088  \\nAlumnos: Suárez Cruz Bruno1, Aguilar Miranda Joseph Alexis2. \\nDirector: Dra. en C. Lorena Chavarría Báez.  Director: Dr. en C. Miguel Santiago Suárez Castañón  \\ne-mail1: bsuarezc1301@alumno.ipn.mx  \\ne-mail2: jaguilarm1406@alumno.ipn.mx  \\n \\nResumen – Aplicación  para dispositivos móviles Android que recolectarán datos de los sensores del dispositivo para identificar a \\ntravés de parámetros si un conductor cae en un bache. Cuando se identifique que el usuario ha caído en un bache se tomará la \\nubicación en el momento y la información se enviará a una base de datos; En caso de que el usuario quiera dar de alta un bach e sin \\nnecesidad de manejar, este podrá reportarlo con la información de la ubicación de este.  \\n \\nPalabras clave  – Dispositivo móvil, geolocalización, nube, sensores.  \\n \\n \\n1. Introducción  \\n \\nEl parque vehicular en la Ciudad de México al final del año 2018 se extendió a más de cinco millones y medio de unidades, entre \\nautomóviles particulares, transporte público, camiones de carga y motocicletas. [1]  \\n \\nEn la zona metropolitana del valle de México, se estima que una contribución mayoritaria de contaminación del aire es causada por \\nel sector transporte, con un 84% de las emisiones, tales como bióxido de azufre, monóxido de carbono, óxidos de nitrógeno y r estos \\nde hidrocarburos. [2] \\n \\nSe sabe por un comunicado de la Secretaría de Obras y Servicios que la vía primaria de la Ciudad de México comprendida por má s \\nde 116 kilómetros se encuentra severamente deteriorada y aproximadamente el 38 por ciento necesita mantenimiento preventivo [3] \\nEl deterioro de la vía pública genera problemas cotidianos, como el tránsito lento y embotellamientos en las vías principales,  esto \\ndesencadena a una gran cantidad de vehículos aglomerados en la ciudad por más tiempo, lo cual prolonga la emisión de \\ncontamin antes.  \\n \\nExistentes los problemas de transporte y la infraestructura vial de la Ciudad de México, no es posible satisfacer la demanda de \\nmovilidad de los ciudadanos en las áreas urbanas, por lo que se hace necesario el constante mantenimiento de la vía públ ica y así \\nevitar las problemáticas que ocasiona ya que la movilidad lenta en medios de transporte motorizados provoca la disminución de  la \\ncalidad de vida de los ciudadanos ya que no existe una satisfacción de las necesidades básicas; Tales como la segurid ad, calidad del \\nmedio ambiente, el libre tránsito y la satisfacción personal. [4] \\n \\nExpuesto el caso se concluye la necesidad de agilizar el mantenimiento a la vía primaria de la Ciudad de México. Actualmente el \\nCentro de Servicios y Atención Ciudadana tien e habilitada una línea telefónica (072) para el reporte de baches y en el primer informe \\nde gobierno a septiembre de 2019 se reportó que un tercio de la carpeta asfáltica fue bacheada; [5] \\n \\nSin embargo, el trabajo de identificación de baches no es solament e del gobierno federal, la participación e interacción de la población \\ncon el estado es una de las nuevas tendencias en el mundo. El acercamiento de los administrados con la administración pública  va \\nacotando aún más el actuar arbitrario y discrecional de esta última por el medio de mecanismos que permiten la participación de \\ntodos los grupos sociales en el debate de los temas que nos afectan; Por lo que para que la participación pueda cumplir con s u objetivo \\nes necesario que sea efectiva y real, con acceso  a toda la información de ambas partes. [6] \\n \\nPara hacer más ágil el mantenimiento de la vía pública, el gobierno a través de la Secretaría de Obras y Servicios y la Direc ción \\nGeneral de Servicios Urbanos lanzó el programa Bache -24 [7] con el objeto de que el ciudadano participe para garantizar la seguridad \\nvial y peatonal de los habitantes de la Ciudad de México mediante un servicio de bacheo que consiste en reportar desde una ap licación \\nmóvil la ubicación de un bache; Pero en su primer año de funcionamient o, se reportaron mayormente baches no localizados y reportes \\nque no corresponden a baches por lo que hoy la Agencia Digital de Innovación Pública del gobierno de la ciudad de México no t iene \\na Bache -24 entre sus proyectos vigentes y esta aplicación fue des cartada.  \\n \\nComo alternativa a la recolección de información de los baches en la Ciudad de México, tomando como principal objetivo la \\nparticipación ciudadana y la ayuda a la autoridad para la identificación precisa de estos, se propone la aplicación de ident ificación y \\nreporte de baches en la ciudad de México.   \\n2 \\n  \\nSistemas similares que se han desarrollado son:  \\n \\nSOFTWARE  CARACTERÍSTICAS  PRECIO EN \\nEL MERCADO  \\nWAZE  Desarrolla soluciones prácticas para que las personas puedan tomar mejores decisiones, \\ndesde conducir por la ruta más rápida y salir a la hora correcta hasta compartir trayectos \\ndiarios.  \\nLos usuarios colaboran con la navegación en tiempo real y se ayudan para llegar a destino \\ncon menos dolores de cabeza.  \\n \\nEsta aplicación permite al usuario reporta r anomalías en una ruta, como choques, \\nembotellamientos y baches, que son reportados a los demás usuarios.  Gratis  \\nBache 24  Tiene como objetivo atender en un plazo no mayor a 24 horas los reportes realizados por \\nlos ciudadanos de la ciudad de México con respecto a baches ubicados en una red vial \\nprimaria, la cual está integrada por 169 vialidades (ejes viales, calzadas, avenidas \\nprincipales, así como vías de acceso a la ciudad).  \\n \\nEste programa busca garantizar la seguridad vial y peatonal de los habitante s de la Ciudad \\nde México a través de un sistema de bacheo eficiente.  Gratis  \\nFORD  Ford ha presentado una tecnología que avisa de los posibles baches en carretera. Para ello \\ndesarrollará un mapa virtual.  \\n \\nEstas alertas que llegaron  a la pantalla gracias a cámaras y a un módem instalado en los \\nvehículos. Dichos dispositivos tendrán la misión de recoger la información detallada de los \\nbaches y la enviarán  a la nube en tiempo real, donde estaría disponible para otros \\nconductores.  Desco nocido  \\nSolución \\nPropuesta  Permitirá la geolocalización de baches que se encuentran en la Ciudad de México, mediante \\nsu detección o reporte de parte del usuario, para crear una base de datos.  \\nSu objetivo es proporcionar dicha base para que las autoridades pertinentes de la ciudad \\npuedan actuar sobre dicha problemática.   Desconocido  \\n \\nTabla 1 . Resumen de productos similares.  \\n \\n2. Objetivo  \\n \\nDesarrollar una aplicación móvil que identifiqué si un conductor cayó en un bache, o que un usuario reporte la ubicación del mismo \\nsin necesidad de caer en él, la cual será enviada en tiempo real a una base de datos.  \\n  \\nObjetivos Específicos  \\n \\n● Desarrollar un  algoritmo capaz de reconocer a través de la información proporcionada por los sensores de un dispositivo \\nmóvil si un auto en movimiento cayó en un bache.  \\n● Poblar una base de datos, con la información recolectada por la aplicación.  \\n● Proporcionar la informaci ón obtenida a través de los usuarios a las autoridades correspondientes para que se tomen acciones \\nsobre los baches en la ciudad.  \\n●  \\nLa información que será enviada a la base de datos es la siguiente:  \\n○ Ubicación.  \\n○ Fecha y hora del evento.  \\n○ Número de incidencia (En caso de que el usuario no sea el primero en caer en el bache)   \\n3 \\n 3. Justificación  \\n \\nDe acuerdo con el Instituto Nacional de Estadística y Geografía en el 2018, 73.5% de la población de seis años o más utilizó el \\nteléfono celular. De éstos, ocho de cada diez usuarios, contaban con un celular inteligente (Smartphone), que les permitía conectarse \\na Internet. El número total de usuarios que disponen de celular inteligente (Smartphone) creció de 64.7 millones de personas en 2017 \\na 69.6 millones en 201 8. Además, en 2018 hay un aumento de los usuarios que se conectan a internet desde un celular inteligente \\n(Smartphone), pasando del 92.0% en 2017 a 93.4% en 2018; con una diferencia de 5.5 millones de personas. [8] \\n \\nEste dato es de suma importancia ya que la aplicación propuesta requiere de un celular inteligente y una conexión a internet, por lo \\nque dado al número en incremento de usuarios de celulares inteligentes y su conexión a internet, es factible el uso de la apl icación \\nen la mayoría de la población de la ciudad.  \\n \\nTambién, basamos la propuesta de una aplicación para recolección de datos, en un concepto denominado “Ciudades Inteligentes” \\nque propone con la entrada de las tecnologías de la información y comunicación en la vida cotidiana se puede generar  un cambio \\nconvirtiendo las ciudades meramente urbanas en ciudades inteligentes, haciendo uso de las TIC para la optimización a todos lo s \\nniveles. [9] El prototipo de aplicación de identificación y reporte de baches en la ciudad de México busca mejorar la identificación de \\nbaches en la ciudad de México y agilizar el reporte de estos a las autoridades pertinentes mediante el desarrollo de una apli cación \\ncapaz de procesar tanto quejas directas, como incidentes ocurridos al manejar. Evitando así el reporte por  vía telefónica o electrónica, \\npues la base de datos con la información de los baches llegaría directamente al organismo responsable de tratar con esta prob lemática.  \\n \\nEsta aplicación será desarrollada haciendo uso de conocimientos tales como el desarrollo de sistemas distribuidos, protocolos de \\ncomunicación, bases de datos, consumo de servicios online y desarrollo de aplicaciones móviles para recolectar información \\ndirectamente desde los dispositivos y poblar un banco de datos de utilidad para el mejoramien to de las vías principales de la Ciudad \\nde México y ayudar al mejoramiento de la calidad de vida de los ciudadanos mediante el uso de las tecnologías de la informaci ón. \\n \\n4. Productos o Resultados esperados  \\n \\n \\nFigura 1. - Arquitectura del sistema  \\n \\n1. Aplicación para dispositivo Móvil Android.  \\n2. Ficha Técnica de la aplicación  \\n3. Manual de Usuario.  \\n \\n4 \\n 5. Metodología  \\n \\nMobile -D [10] \\n \\nEstá metodología ágil está adecuada específicamente para el desarrollo en aplicaciones móviles y se basa en la iteración de pequeños \\nciclos de desarrollo rápido.  \\nUn ciclo de proyecto con la metodología Mobile -D está compuesto por cinco fases:  \\nFase de Exploración. - Esta fase es la encargada de la planificación.  \\nFase de inicialización. - Se preparará y verificará todo el desarrollo y todos los recursos que se necesitan.  \\nFase de producción. - Se repite la programación iterativamente hasta implementar las funcionalidades que se desean.  \\nFase de estabilización. - Se llevarán a cabo las acciones de integración donde se verifica el funcionamiento del sistema en conjunto.  \\nFase de pruebas. – Se prueba la aplicación una vez terminada, de encontrarse inconvenientes se vuelve a la primera fase.  \\n \\nOtra característica de esta  metodología es que está pensada para grupos de desarrolladores de no más de 10 personas, enfocándose \\nal trabajo rápido y resultados de corto alcance, que al paso de los ciclos se convierten en una aplicación robusta y plantea que un \\nciclo de desarrollo pa ra obtener un producto funcional no debe ser mayor al año.  \\n \\nDebido a la naturaleza y el diseño enfocado al alcance de los desarrollos de esta metodología, se propone para ser utilizada,  haciendo \\nque la aplicación sea efectiva y los errores puedan ser subsa nados rápidamente.  En la figura 2 se pueden observar las etapas del \\nmodelo Mobile -D. \\n \\n \\n \\nFigura 2. - Modelo Mobile -D \\n \\n \\n \\n  \\n \\n5 \\n 6. Cronograma  \\n \\nSuárez Cruz Bruno  \\n \\n \\nAguilar Miranda Joseph Alexis  \\n \\n \\n \\n7. Referencias  \\n \\n[1] Instituto Nacional de Estadística y Geografía (INEGI). Estadística de Vehículos de Motor Registrados en Circulación . 2018.  \\nDisponible en: https://www.inegi.org.mx/temas/vehiculos  \\n[2] M. P. Fernández y A. E. Ponce. Capítulo 5. - Calidad de vida ambiental . GEO Ciudad de México. 2004. Disponible en: \\nhttp://centrogeo.repositorioinstitucional.mx/jspui/handle/1012/288  \\n[3] Secretaría de Obras y Servicios de  la Ciudad de México (SOBSE). Programa de mantenimiento preventivo y correctivo a la \\ncarpeta asfáltica de la Red Vial Primaria . 2019. Disponible en: https://obras.cdmx.gob.mx/proyectos  \\n[4] A. Urzúa y A. Caqueo -Urízar. Calidad de vida: Una revisión teórica del concepto. Sociedad Chilena de Psicología Clínica.  \\n2012. Disponible en: http://dx.doi.org/10.4067/S0718 -48082012000100006  \\n[5] C. Sheinbaum. Primer informe de gobierno, Informe por Alcaldía. Gobierno de la Ciudad de México. 2019. Disponible en: \\nhttps://primerin forme.cdmx.gob.mx/documentos/informe_alcaldia.pdf  \\n[6] M. A. López. Régimen jurídico del bache en la ciudad de México . Instituto de investigaciones jurídicas. UNAM. 2009. \\nDisponible en: https://revistas -colaboracion.juridicas.unam.mx/index.php/opera -prima -derec ho-admin/article/view/1433  \\n[7] Dirección General de Servicios Urbanos. PROGRAMA BACHE -24. 2019. Disponible en: https://bache24.agucdmx.gob.mx/  \\n[8] Instituto Nacional de Estadística y Geografía (INEGI). Disponibilidad y Uso de Tecnologías de la Información . 2019.  \\nDisponible en: https://www.inegi.org.mx/contenidos/saladeprensa/boletines/2019/OtrTemEcon/ENDUTIH_2018.pdf  \\n[9] R. Autrán. Hacia el ensamblaje de una ciudad inteligente en México . Revista Gestão & Conexões. 2014. Disponible en:  \\nhttps://info tec.repositorioinstitucional.mx/jspui/handle/1027/187  \\n[10] A. Werterski. Metodología de desarrollo ágil para sistemas móviles. Universidad Politécnica de Madrid. 2009. Disponible en: \\nhttp://www.adamwesterski.com/wp -content/files/docsCursos/Agile_doc_TemasAnv.pd f \\n  \\n \\n6 \\n 8. Alumnos y director es \\n \\nBruno Suarez Cruz . - Alumno  \\nde la c arrera de Ing. en Sistemas Computacionales en  \\nESCOM, Especialidad Sistemas, Boleta: 2014630486, Tel.  \\n55 43773762, email: bsuarezc1301@alumno.ipn.mx  \\n \\n \\nFirma: ______________________________  \\n \\nJoseph Alexis Aguilar Miranda . - Alumno  \\nde la carrera de Ing. en Sistemas Computacionales en  \\nESCOM, Especialidad Sistemas, Boleta: 2015630603, Tel.  \\n56 13077074, email: jaguilarm1406@alumno.ipn.mx  \\n \\n \\nFirma: ______________________________  \\n \\nDra. en C. Lorena Chavarría Báez . Doctora en Ciencias en \\nIngeniería Eléctrica, opci ón Computación, por el \\nCINVASTAV -IPN. Profesor de la ESCOM desde el 2005. \\nÁreas de interés: Bases de Datos, Gestión de información \\nmóvil. Email: lorena_chavarria@yahoo.com.mx  \\n \\n \\nFirma: ______________________________  \\n \\nDr. en C. Miguel Santiago Suárez Castañón . Obtuvo el título \\nde Ingeniero en Cibernética y Ciencias de la Computación en \\nla ULSA en 1991, el grado de Maestro en Ciencias de la \\nComputación en la UNAM en 2001, y el grado de Doctor  en \\nCiencias de la Computación en el IPN en 2005. Desde 2006 a  \\nla fecha ha sido miembro del Sistema Nacional de \\nInvestigadores. De septiembre de 2007 a agosto de 2008 \\nrealizó una estancia postdoctoral en la Universidad de \\nHouston. Desde 2000 a la fecha ha sido profesor de tiempo \\ncompleto en la Escuela Superior de Cómputo, impartiendo \\ndiversas asignaturas del área de computación. Sus temas de \\ninterés en investigación son control automático, y desarrollo \\nde software.  Email: sasuarez@prodigy.net.mx  \\n \\n \\n \\nFirma: ______________________________  \\n CARÁCTER: Confidencial  \\nFUNDAMENTO LEGAL: Art. 3, fracc. II, Art. 18, fracc. II \\ny Art. 21, lineamiento 32, fracc. XVII de la L.F.T.A.I.P.G.  \\nPARTES CONFIDENCIALES: No. de boleta y Teléfono.  \\n '"
      ]
     },
     "execution_count": 34,
     "metadata": {},
     "output_type": "execute_result"
    }
   ],
   "source": [
    "text[12]"
   ]
  },
  {
   "cell_type": "code",
   "execution_count": 59,
   "metadata": {},
   "outputs": [
    {
     "name": "stdout",
     "output_type": "stream",
     "text": [
      "196 / 196\r"
     ]
    }
   ],
   "source": [
    "protocolos = []\n",
    "i=0\n",
    "for i in range(len(text)):\n",
    "    protocolos.append(get_all_info(text[i]))\n",
    "    print(i + 1, '/', len(text), end='\\r')"
   ]
  },
  {
   "cell_type": "code",
   "execution_count": 61,
   "metadata": {},
   "outputs": [
    {
     "data": {
      "text/plain": [
       "'MONEDERO ELECTRONICO PARA CAFETERIAS ESCOLARES, POR MEDIO DE UN SISTEMA EMBEBIDO Trabajo Terminal No. _ _ _ _- _ _ _ Alumnos: Campos Ambrocio Javier, González Gómez Javier, Rodríguez Santiaguillo Marcela Nataly Directores: Dr. Amadeo José Argüelles Cruz, M. en Ing. Alfredo Rangel Guzmán Turno para la presentación de TT: Vespertino e-mail: jca_950904@hotmail.com  Resumen – En el presente trabajo se propone implementar un ecosistema digital para las cafeterías escolares; en el cual se podrá realizar cobros de artículos mediante tecnología RFID y controlar el inventario mediante una aplicación móvil con un servidor dedicado.  Palabras clave – Sistema embebido, aplicación móvil, tecnológica RFID, base de datos, electrónica.  1. Introducción   Los pagos ‘contactless’ ha avanzado exponencialmente. En el año 2017, se estima que los pagos globales a través de NFC ascienden a 1.300 millones de dólares. Sin embargo, esta forma de pago es solo una de las muchas aplicaciones que parece tener NFC. En EE. UU. el transporte público de la ciudad de Nueva York o el metro de Los Ángeles ya incorporan este sistema, así como en otros medios de transporte en Alemania o Canadá. Y las compañías tecnológicas también tienen sus propios modelos de pagos basados en NFC: Android Pay y Apple Pay. La tecnología NFC sigue creciendo por todo el mundo, y es cuestión de tiempo que cada vez más marcas encuentren una aplicación en su modelo de negocio [1].  La tecnológica NFC se basa en RFID (Radio-frequency identification), una tecnología inalámbrica estandarizada que tiene como propósito ser usada para facilitar la interconexión de dispositivos y el intercambio de datos en un entorno acotado [2].  La tecnología NFC está en desarrollo desde hace más de cuatro décadas, comenzó su andadura en el año 2002 y fue aprobado como estándar 18092 aproximadamente hace 15 años, en 2003. La tecnología NFC es compatible con el estándar ISO/IEC-14443 para tarjetas de proximidad sin contactos, lo que lo hace compatible con toda la infraestructura de pago sin contactos y de transporte que existe en la actualidad [3]. Esto hace que las aplicaciones y el desarrollo con tecnología NFC pueden convivir de manera natural con diferentes sistemas, en este caso en particular, con los sistemas embebidos.   Los sistemas embebidos, son un tipo de sistema de computación diseñados para realizar una o algunas pocas tareas dedicadas, es decir; están diseñados para realizar una labor específica y generalmente son sistemas en tiempo real. Se estima que para el año 2020 existirán cerca de 40,000 millones de dispositivos embebidos [4]. Esto será́ equivalente a 5 dispositivos embebidos por cada ser humano que habite en el planeta y el mercado de tecnología embebida (software y hardware) se ubicará alrededor de los 200,000 millones de dólares [5]. Esta área se ha convertido en una de mucho interés debido a su clara participación en el futuro en cualquier ámbito de la sociedad: comunicaciones móviles, tráfico y transporte, casas inteligentes, entre otras muchas cosas.   Por otro lado, tenemos las aplicaciones móviles, que en la última década han tenido un auge y desarrollo sin precedentes. Hay aproximadamente 8 millones de aplicaciones en la tienda de Google Play, 2.2 millones en la tienda de aplicaciones de Apple, 669K en la tienda de Windows y 600K en la tienda de aplicaciones de Amazon [6]. Prácticamente existe una aplicación móvil para cualquier área o fin en específico. Ahora, tenemos la mayor comunicación en nuestra palma, pero lo más sobresaliente es que el teléfono móvil se ha convertido en una herramienta de trabajo.   2. Objetivo  General   Desarrollar un ecosistema digital para gestionar una cafetería escolar.   Particular  • Crear una máquina para recargar el monedero electrónico (RFID) • Crear una máquina para el expendio de productos (RFID) • Desarrollar una aplicación móvil para el manejo del inventario • Servidor para alojar la información   3. Justificación  Desde la llegada de internet, la sociedad se ha involucrado en el desarrollo exponencial de no solamente nuevas tecnologías, sino que además ha impulsado necesidades en la población que cada vez buscan, con mayor exigencia, ser atendidas. De esta manera, hemos llegado a lo que hoy se conoce como economía digital. Un concepto que se encuentra en pleno auge y que se basa en proporcionarnos de manera eficiente nuevos bienes y servicios al alcance de nuestras manos. Apoyados de los avances tecnológicos, proponemos una prueba de concepto de economía digital para cafeterías escolares. Dicho sistema enfoca su innovación en la semi-automatización, ya que de esta manera se tendrá un control, organización y acceso a la información de productos, además de realizar el cobro de manera eficaz y así tratar de evitar pérdidas de tiempo y ofrecer un mejor servicio al cliente.  4. Productos o Resultados esperados  Se espera un ecosistema digital en el cual resida todo el control. • Prototipo de máquina para recarga el monedero electrónico (RFID). • Prototipo de máquina para el expendio de productos (RFID). • Aplicación móvil para el manejo de inventario. • Servidor para alojar información. • Código fuente para el prototipo de recarga de saldo. • Código fuente para el prototipo de expendio de productos. • Código fuente de la aplicación móvil. • Código fuente del servidor. • Manuales de usuario. • Manuales técnicos.  5. Metodología   Para la implementación de los prototipos de recarga de saldo en el monedero electrónico y el protipo para el expendio de productos se tomó en cuenta una adaptación del modelo en V para el desarrollo de sistemas embebidos, la cual consta de 7 etapas, en las cuales se parte de un análisis y diseño, siguiendo una implementación y por último una depuración e integración final. Las etapas que tiene este modelo se muestran en la Figura 1.   Figura 1 [7]. Modelo en V  Partiendo de la especificación de requisitos, se pretende definir y documentar los diferentes requerimientos del sistema a implementar siguiendo un diseño global el cual tiene como objetivo obtener una visión general del sistema. El diseño en detalle consiste en detallar cada bloque de la fase anterior, aquí se pretende especificar el diseño del sistema embebido, el receptor y la aplicación, seguida de la implementación de cada uno de estos. El test unitario verifica cada módulo de HW y SW de manera individual, en donde se depurará cada uno de los módulos hasta obtener el resultado deseado. La fase de integración acopla los diferentes módulos del sistema siguiendo el test operacional, en donde se realizan las últimas pruebas sobre un escenario real.  El modelo en V define las siguientes etapas de desarrollo:  Definición de especificaciones (Fase 1): Se deben definir y documentar los diferentes requisitos del sistema a desarrollar, identificando los valores numéricos más concretos posibles.  Diseño global (Fase 2): También llamado diseño de alto nivel. Su objetivo es obtener un diseño y visión general del sistema.  Diseño en detalle (Fase 3): Consiste en detallar cada bloque de la fase anterior.  Implementación (Fase 4): Es la fase en la que se materializa el diseño en detalle.  Test unitario (Fase 5): En esta fase se verifica cada módulo HW y SW de forma unitaria, comprobando su funcionamiento adecuado.  Integración (Fase 6): En esta fase se integran los distintos módulos que forman el sistema. Como en el caso anterior, ha de generarse un documento de pruebas. Por una parte, se debe comprobar en todo el sistema el funcionamiento correcto, y por otra, en caso de tratarse con un sistema tolerante a fallos, debe verificarse que ante la presencia de un fallo persiste el funcionamiento correcto. Se comprueba el cumplimiento de los requisitos establecidos.  Test operacional del sistema (Fase 7): Se realizan las últimas pruebas, pero sobre un escenario real, en su ubicación final, anotando una vez más las pruebas realizadas y los resultados obtenidos.   \\nPara el desarrollo de la aplicación móvil se plantea Scrum como metodología, ya que permite adaptar la forma de trabajo a las condiciones del proyecto, consiguiendo flexibilidad e inmediatez en  su desarrollo a circunstancias específicas del entorno. Scrum es un marco de gestión para el desarrollo incremental de productos, valiéndose de uno o más equipos multi-funcionales y autoorganizados. Proporciona una estructura de roles, reuniones, reglas y artefactos.  El enfoque incremental e iterativo de Scrum cambia las fases tradicionales del desarrollo en “cascada” por la capacidad de desarrollar un subconjunto de características de alto valor en primer lugar, incorporando feedback temprano. El desarrollo tradicional en “cascada” depende de una perfecta comprensión de los requisitos del producto desde el principio y un mínimo de errores en cada fase Figura 2. \\nFigura 2[8]. Métodologia en Cascada  Scrum combina todas las actividades de desarrollo en cada iteración, adaptándose a las realidades emergentes, en intervalos fijos Figura 3.                       Figura 3 [8]. Scrum 6. Cronograma \\n Las actividades correspondientes a la realización del presente trabajo terminal se deberán realizar en un plazo de 10 meses de trabajo efectivo, con un receso de dos meses después de la presentación de la etapa TT1; con la finalidad de realizar la revaluación de los avances alcanzados. Sumando con ello un periodo de 12 meses de realización. Anexamos el cronograma de actividades para realización de este trabajo terminal.  7. Referencias   [1] BBVA, Infografía: Pagos móviles sin contacto: NFC (Octubre de 2016). Obtenido de BBVA [En línea]. Disponible en: https://www.bbva.com/es/pagos-proximidad-movil-nfc-mas-realidad/  [2] CASE, Tecnología inalámbrica Near Field Communication y sus aplicaciones en sistemas embebidos (Marzo de 2011). Obtenido de SASE [En línea]. Disponible en: http://www.sase.com.ar/2011/files/2011/02/case2011_submission_15.pdf  [3] Blog, NFC (Noviembre de 2012). Obtenido de Blog Historia de la Informática [En línea]. Disponible en: https://histinf.blogs.upv.es/2012/11/21/nfc/  [4] ARTEMIS Joint Undertaking. (s.f.). Obtenido de ARTEMIS Web Site: http://www.artemis-ju.eu/embedded_systems.  [5] Embedded Systems: Technologies and Markets. (Septiembre de 2014). Obtenido de BCC Research [En línea]. Disponible en : http://www.bccresearch.com/market- research/information-technology/embedded-systems-report- ift016e.html [6] Cytronik, El informe de marketing móvil 2018: estadísticas que necesitas saber (Noviembre de 2017). Obtenido de Cytronik [En línea]. Disponible en: http://www.cytronik.com/noticias/informe-marketing-movil-2018-estadisticas-necesita-saber/ [7] PEREZ, A; et al. “Una metodología para el desarrollo de hardware y software embebidos en sistemas críticos de seguridad”. Systemics, Cybernetics and Informatics Journal, vol 3, Num. 2, 2006, pp. 70-75.  [8] Scrum Reference Card, Acerca de Scrum (2010). Obtenido de Scrumreferencecard [En línea]. Disponible en: http://scrumreferencecard.com/ScrumReferenceCard_v0_9l-es.pdf    8. Alumnos y directores  Campos Ambrocio Javier. - Alumno de la carrera de Ingeniería en Sistemas Computacionales en la ESCOM, Especialidad Sistemas, Boleta: 2014630189.  Tel. 5591689438, email: jca_950904@hotmail.com   Firma: ______________________________    González Gómez Javier. - Alumno de la carrera de Ingeniería en Sistemas Computacionales en la ESCOM, Especialidad Sistemas, Boleta: 2014630192. Tel. 5534929748, email: m9-javiergonzalez@hotmail.com    Firma: ______________________________    Rodriguez Santiaguillo Marcela Nataly. - Alumno de la carrera de Ingeniería en Sistemas Computacionales en la ESCOM, Especialidad Sistemas, Boleta: 2014630623. Tel. 5518059767, email: marcelanrs@hotmail.com    Firma: ______________________________    Amadeo José Argüelles Cruz. – Dr. en Ciencias de la Computación por parte del CIC-IPN, M. en C. en Ingenieria de Computo por parte del CIC-IPN, Áreas de interés: Sistemas embebidos, inteligencia artificial, logica reconfigurable.  Tel: 57296000 ext.56593 . email: jamadeo@cic.ipn.mx    Firma: ______________________________    Alfredo Rangel Guzman. – M. en Ing. en Sistemas Empresariales por parte de la Universidad Iberoamericana, Lic. en Sistemas Computarizados e Informatica por parte de la Universidad Iberoamericana, Áreas de interés: Redes complejas, stability theory of large-scale dynamical systems, nonlinear differencial equations and dynamical systems.  Tel: (55) 39931959. email: arangelg@ipn.mx    Firma: ______________________________    CARÁCTER: Confidencial FUNDAMENTO LEGAL: Art. 3, fracc. II, Art. 18, fracc. II y Art. 21, lineamiento 32, fracc. XVII de la L.F.T.A.I.P.G. PARTES CONFIDENCIALES: No. de boleta y Teléfono.  Nombre del alumno: Javier Campos Ambrocio TT No.: Titulo del TT: Monedero electrónico para cafeterías escolares, por medio de un sistema embebido. Actividad FEB MAR ABR MAY JUN AGO SEP OCT NOV DIC Investigación de estándares NFC           Especificación de requerimientos funcionales y no funcionales del módulo NFC           Investigación sobre tarjetas single board           Investigación sobre el modulo monedero multimoneda            Elaboración del hardware modulo RFID y el modulo monedero multimoneda           Evaluación de TT I           Programación del modulo RFID y el modulo monedero multimoneda           Test Unitario del modulo RFID y el modulo monedero multimoneda           Integración del modulo RFID y el modulo monedero multimoneda           Test operacional del sistema           Evaluación de TT II.             Nombre del alumno: González Gómez Javier TT No.: Titulo del TT: Monedero electrónico para cafeterías escolares, por medio de un sistema embebido.  Actividad FEB MAR ABR MAY JUN AGO SEP OCT NOV DIC Investigación de especificaciones para el sistema embebido            Especificaciones de requerimientos funcionales y no funcionales del sistema embebido           Investigación sobre pantalla touch           Investigación sobre el modulo lector de código de barras           Integración de la pantalla touch y el modulo lector a la single board           Evaluación de TT I           Programación del modulo lector de código de barras y la pantalla touch           Test Unitario del lector de código de barras y la pantalla touch           Integración del nodo lector de código de barras y la pantalla touch           Test operacional del sistema           Evaluación de TT II.             Nombre del alumno: Rodríguez Santiaguillo Marcela Nataly TT No.: Titulo del TT: Monedero electrónico para cafeterías escolares, por medio de un sistema embebido.  Actividad FEB MAR ABR MAY JUN AGO SEP OCT NOV DIC Aprendizaje del IDE Android Studio           Investigación sobre análisis y patrones de imágenes           Elaboración de diagramas de casos de uso y secuencia           Elaboración de diagramas de Estado y de actividades           Elaboración de la aplicación móvil           Evaluación de TT I           Conexión de la aplicación móvil con el servidor           Test Unitario de la aplicación móvil con el servidor            Integración de la aplicación móvil con el servidor           Test operacional del sistema           Evaluación de TT II.            '"
      ]
     },
     "execution_count": 61,
     "metadata": {},
     "output_type": "execute_result"
    }
   ],
   "source": [
    "text[2]"
   ]
  },
  {
   "cell_type": "code",
   "execution_count": 992,
   "metadata": {},
   "outputs": [
    {
     "data": {
      "text/plain": [
       "['SDN', 'aut ómata celular', 'centro de datos']"
      ]
     },
     "execution_count": 992,
     "metadata": {},
     "output_type": "execute_result"
    }
   ],
   "source": [
    "protocolos[169][4]"
   ]
  },
  {
   "cell_type": "code",
   "execution_count": 60,
   "metadata": {},
   "outputs": [],
   "source": [
    "import pandas as pd\n",
    "df = pd.DataFrame(protocolos, columns=['Título', 'Número de TT', 'Directores', 'Áreas', 'Palabras clave', 'Resumen', 'Objetivo general', 'Objetivos específicos'])\n",
    "df.to_excel('protocolos.xlsx', index=False)"
   ]
  },
  {
   "cell_type": "code",
   "execution_count": null,
   "metadata": {},
   "outputs": [],
   "source": []
  },
  {
   "cell_type": "code",
   "execution_count": null,
   "metadata": {},
   "outputs": [],
   "source": []
  },
  {
   "cell_type": "code",
   "execution_count": null,
   "metadata": {},
   "outputs": [],
   "source": []
  },
  {
   "cell_type": "code",
   "execution_count": null,
   "metadata": {},
   "outputs": [],
   "source": []
  },
  {
   "cell_type": "code",
   "execution_count": null,
   "metadata": {},
   "outputs": [],
   "source": []
  },
  {
   "cell_type": "code",
   "execution_count": null,
   "metadata": {},
   "outputs": [],
   "source": []
  },
  {
   "cell_type": "code",
   "execution_count": 23,
   "metadata": {},
   "outputs": [
    {
     "name": "stdout",
     "output_type": "stream",
     "text": [
      "197/197\r"
     ]
    }
   ],
   "source": [
    "titulos = []\n",
    "num_tt = []\n",
    "abstracts = []\n",
    "keywords = []\n",
    "directores = []\n",
    "areas_interes = []\n",
    "objetivos = []\n",
    "objetivos_especificos=[]\n",
    "index=1\n",
    "\n",
    "for j in documento:\n",
    "    print(f\"{index}/{len(pdf_files)}\", end=\"\\r\")\n",
    "    titulos.append(get_title(j))\n",
    "    num_tt.append(get_ttnum(j))\n",
    "    keywords.append(get_keywords(j))\n",
    "    directores.append(get_director(j))\n",
    "    areas_interes.append(get_areas(j))\n",
    "    abstracts.append(get_abstract(j))\n",
    "    \n",
    "    objetivos.append(get_objetivo(j))\n",
    "    objetivos_especificos.append(get_objetivos_especificos(j))\n",
    "    index+=1\n",
    "\n"
   ]
  },
  {
   "cell_type": "code",
   "execution_count": 31,
   "metadata": {},
   "outputs": [
    {
     "name": "stdout",
     "output_type": "stream",
     "text": [
      "es: alcántara méndez alberto jesús, martínez díaz juan carlos *email: evi_sakura@hotmail.com **email: neon_sunlight@hotmail.com resumen – se pretende desarrollar un laboratorio virtual de electrónica analógica utilizando los conocimientos de electrónica y programación adquiridos en el transcurso de la carrera, esto con el propósito de satisfacer la demanda de los equipos de medi ción que se encuentran en los laboratorios de electrónica de la escuela superior de cómputo. apoyando al mismo tiempo a la optimiz ación del espacio de almacenamiento que ocupan algunos de estos equipos, de tal manera que puedan ser portátiles y que los alumno s puedan utilizarlos con mayor comodidad y eficiencia. palabras clave – electrónica analógica, instrumentación, sistemas electrónicos, programación. 1. introducción en el presente documento se describe la propuesta para desarrollar como trabajo t erminal un laboratorio virtual de electrónica analógica con el objetivo de cumplir con los requisitos de la opción de titulación curricular de la escuela superior de cómpu to del instituto politécnico nacional, el cual describe las razones por las cuales se decidió desarrollar este sistema, basado en una problemática observada constantemente al interior de los laboratorios de la escuela superior de cómputo. posteriormente se enumeran los beneficios que puede tener para la institución, cuáles son los resultad os que se esperan logr ar y de qué forma se llevarán a cabo los objetivos. problemática actualmente en la escuela superior de computo (escom) cuenta con cuatro laboratorios de electrónica, dos de los cuales están enfocados a la electrónica analógica y los otros dos a sistemas digitales y comunicaciones, cada uno está acondicionado con diferentes equipos de medición como son multímetros, osciloscopios digitales, generadores de funciones, fuentes de voltaje do bles, etc., estos equipos son muy costosos y ocupan un espacio considerable en el laboratorio. gran parte del equipo tiene varios años de antigüedad y algunos incluso necesitan un mantenimiento periódico, de tal forma que no se cuenta con el presupuesto para la reparación o compra de un equipo nuevo, además de que el proceso que esto requiere es muy engorroso y lento ya que se hace uso de presupuesto federal. durante el periodo escolar los alumnos comparten los equipos de medición los cuales en ciertas temporadas la demanda es alta y la disponibili dad de estos insuficiente, además de que el constante uso de los equipos va afectando poco a poco su funcionamiento, por tal motivo se decide desarrollar un laboratorio virtual para las unidades de aprendizaje como son: análisis fundamental de ci rcuitos eléctricos, electrónica analógica e instrumentación, solo por mencionar algunas. propuesta de solución el presente trabajo terminal trata de dar una solución a la creciente demanda y uso de lo s cuatro laboratorios de electrónica , por medio de la propuesta de un laboratorio virtual de electrónica analógica. esta propuesta de solución tiene la finalidad de sustituir o complementar los equipos de medición actuales con la finalidad de reducir los costos de adquisición, de mantenim iento y ayudar al medioambiente reduciendo desechos electrónicos provocados por estos mismos , también pretende brindar a cada alumno la oportunidad de tener su propio equipo de medición sin tener la necesidad de depender de los laboratorios de la escuela, de este manera el alumno podrá trabajar de acuerdo a su horario, evitando que corra el riesgo de no poder asistir a los horarios de tiempo libre del laboratorio. 2 este sistema será una aplicación de escritorio por lo que nos permitirá una rápida incorporaci ón de nuevas tecnologías debido a la plataforma pc. estado del arte trabajos terminales relacionados a la propuesta: 1. título: desarrollo de un generador de funciones con forma de onda arbitraria con interfaz gpib, registro: 19970031 . síntesis: generador de forma de onda que puede producir señales cuyo ancho de banda no supere los 8mhz, se pueden definir hasta 32 valores para la forma de onda que se va a crear y cuanta con una interfaz gpib. 2. título: desarrollo de un osciloscopio de almacenamiento digital con interfaz , registro: 19980070 síntesis: desarrollo de una tarjeta para computadora personal pala la evaluación de señales analógicas en dos canales, así como un conjunto de programas que permitan poner en práctica las funciones de un osciloscopio digital con interfaz gpib. 3. título: sistema de adquisición de datos de alta velocidad , registro: 20000259 síntesis: el sistema consta de dos módulos: una tarjeta de adquisición de datos pci y un conjunto de programas que permiten su funcionamiento en una computadora personal. mediante este sistema es posible digitalizar señales de hasta 10mhz 4. título: sistema de adquisición de datos inalámbrico por medio de radiofrecuencia , registro: 20060101 síntesis: sistema de adquisici ón de datos inal ámbrico por rf par a innovar en el ramo de este tipo de dispositivos y as tener una herramienta con una aplicaci ón más amplia para cumplir sus objetivos de comunicaci ón por radiofrecuenc ia con su propio protocolo algunos a rtículos publicados relacionados a la propuesta son: 1. a usb -based data ad quisition system designed for educational purposes [1]: el artículo nos habla acerca de la importancia que tienen los sistemas de adquisición de datos (daq) en todos los niveles de e ducación en los ámbitos de ciencia y tecnología. 2. mejora de laboratorios tradicionales mediante el uso de instrumentación virtual [2]: este artículo nos presenta el diseño de un sistema de instrumentación virtual multifuncional para llevar a cabo la superv isión de procesos industriales, domésticos o comerciales que pueda ser manipulado a distancia a través de una computadora o la red. los artículos anteriores nos permiten comprender la importancia que tiene el desarrollo de un dispositivo de instrumentació n virtual, en este caso, para el ámbito educativo. algunas aplicaciones y dispositivos comerciales relacionados con nuestra propuesta se muestran la tabla 1. dispositivo/aplicaciones características precio keysight benchvue mobile1 [3] controles de registro de datos conectar múltiples dispositivos gratis ni mydaq [4] 8 dispositivos en total, incluidos: multímetro digital, osciloscopio y generador de funciones. $312.53 usd, incluye: ni labview, ni multisim, ni ultiboard , basic parts kit, protoboard. [6] mc usb -7202 [5] 16-bit, 100 ks/s, tarjeta daq multifunción con 8 entradas analógicas simultáneas. $399 usd propuesta de solución generador de funciones, multímetro digital, interfaz para pc e incorporación de otros módulos por determinar tabla 1 3 1 keysight benchvue mobile de las tecnologías de keysight (anteriormente agilent technologies) no es un dispositivo de medición, es un auxiliar que permite la visualización de lo mostrado por los distintos dispositivos de keysight tales como osciloscopio s, multímetros digitales, analizadores de espectro, generadores de funciones y fue ntes de alimentación. 2. objetivo desarrollar un multímetro y generador de funciones como instrumentos de medición necesarios para implementar un laboratorio virtual de electrónica analógica con la capacidad de poder desarrollar e incorporar otros instrumentos junto con una aplicación de escritorio. 3. justificación en la actualidad la escuela superior de computo (escom) cuenta con número escaso de equipos de medición, pero con un número alto de computadoras las cuales tienen una baja demanda por parte de los alumnos, esto nos lleva a desarrollar un sistema vir tual en una computadora para abastecer la demanda de equipos de medición. el sistema pretende desarrollar un multímetro y generador de funciones debido a que estos dos s on los más utilizados en todas las materias de la rama de electrónica el sistema que se pr opone está orientado a todo alumno que disponga de una computadora. para llevar a cabo este trabajo se aplicaran los conocimientos adquiridos en la carrera: • ingeniería de software • electrónica analógica • instrumentación • programación orientada a obj etos • programación descripción de hardware actualmente existen sistemas que solucionan la problemática, pero sus costos son muy elevados, por lo que éste trabajo preten de reducirlos. debido a que los instrumentos d el laboratorio son espaciosos el alumn o no puede trabajar en un ambiente cómodo , por lo que este sistema ofrec e al alumno poder trabajar con mayor comodidad y de acuerdo a su s horario s sin la preocupación de no contar con un equipo de medición . también este sistema pretende disminuir las bajas por daños a los equipos del laboratorio y las multas a los alumnos por los mismos . 4. productos o resultados esperados 1. documentación técnica del sistema 2. diagramas eléctricos 3. pruebas de hardware 4. pruebas de software 5. hardware. 6. interfaz de usuario. 7. manual de usuario. 4 figura 1. arquitectura del sistema. 5. metodología la metodología a implementar es scrum siendo una metodología ágil y flexible considerando: • más importancia a las cosas funcionales que la misma documentación • se pueden utilizar las funcionalidades más importantes del proyecto antes de que finalice el mismo • flexibilidad a cambios tanto de hardware como software • el cliente está a disposición de l equipo durante todo el tiempo de desarrollo • equipo auto -organizados y comprometido con el proyecto como está basada en un proceso iterativo/incremental donde las iteraciones tienen una duración fija esto nos permite mejorar el nivel de madurez de cad a uno de los requisitos conforme se avanza el desarrollo. los roles existentes: 1. product owner: profesores/asesores encargados responsables del proyecto 2. scrum master: un miembro del equipo encargado de llevar a cabo todas las metas y resolver los pro blemas 3. equipo: equipo de desarrollo auto -organizado responsable de llevar el backlog en artefactos funcionales. los artefactos: 1. requerimientos: requerimientos del sistema priorizados y necesarios para el proyecto (hardware -software) 2. product backlog : documento dinámico de registro y organización del trabajo para acabar el proyecto(product owner) 3. sprint: periodo de tiempo (máximo 30 días) en el cual se desarrolla una parte del backlog 4. sprint backlog: documento en el que se describe los avances de l as tareas realizadas en los sprint y las entregas. 5. diario: reuniones las cuales se registran los avances o retrasos del día anterior, cosas terminadas y posibles soluciones además de las cosas que se realizaran del día 5 implementación de método: 1. obtención de requerimientos del cliente y selección de los más importantes, priorizar los requisitos. 2. generar el backlog respecto a los requerimientos obtenidos 3. estimación de cada tarea del backlog de parte el equipo de desar rollo 4. selección de tareas del backlog implementado los sprints respectivos generando avances y entregables 5. reuniones diarias de 15min para ver avances, pendientes, cosas por realizar y opiniones. 6 6. cronogramas nombre del alumno: rojas flores angel tt no.: 2015 -b013 título del tt: laboratorio virtual de electrónica analógica actividad feb mar abr may jun jul ago sep oct nov 1 2 3 4 1 2 3 4 1 2 3 4 1 2 3 4 1 2 3 4 1 2 3 4 1 2 3 4 1 2 3 4 1 2 3 4 1 2 3 4 análisis obtención de información selección de requisitos prioridad de requisitos investigación de herramientas hard ware lenguajes de p rogramación entornos de desarrollo presentación tt1 electrónica diagramas programación pruebas interfaz de usuario diseño programación pruebas implementación manual de usuario documentación técnica presentación tt2 7 nombre del alumno: pérez vicente evelyn astrid tt no.: 2015 -b013 título del tt: laboratorio virtual de electrónica analógica actividad feb mar abr may jun jul ago sep oct nov 1 2 3 4 1 2 3 4 1 2 3 4 1 2 3 4 1 2 3 4 1 2 3 4 1 2 3 4 1 2 3 4 1 2 3 4 1 2 3 4 análisis obtención de información selección de requisitos prioridad de requisitos investigación de herramientas hard ware lenguajes de programación entornos de desarrollo presentación tt1 electrónica diagramas programación pruebas interfaz de u suario diseño programación pruebas implementación manual de usuario documentación técnica presentación tt2 7. referencias • [1] murovec, b. and kocijancic , s; “a usb -based data acquisition system designed for educational purposes”, artículo, university of ljubljana, ljubljana; eslovenia, 2004. • [2] sin autor, “mejora de laboratorios tradicionales mediante el uso de instrumentación virtual”, artículo, palac io euskalduna, bilbao, 2006 • [3] keysight benchvue mobile, play store, keysight technologies, version 2.0.2, 12 de octubre 2015 [4] sin autor, (2015, octubre). “multifunction daq board with 8 simultaneous analog inputs” [en línea]. disponible en: http://www.mccdaq.com/usb -data-acquisition/usb -7202.aspx [5] sin autor, (2015, octubre). “dispositivo ni mydaq” [en línea]. disponible en: http://sine.ni.com/nips/cds/view/p/lang/es/nid/210929 • [6] sin autor, (2015, octubre). “ni mydaq – student” [en línea]. disponible en: http://www.studica.com/national instruments -students -ni-labview -mydaq/ni -mydaq.html 8 8. alumnos y \n",
      "es. m. en c. moreno cervantes axel, m. en c. cifuentes álvarez alejandro sigfrido e-mail: barron.luis1993@gmail.com andy.sosa93@gmail.com resumen - un estudiante de la escuela superior de cómputo (escom) se enfrenta a un sin fin de actividades que debe atender cotidianamente dentro de su vida personal y académica, además la falta de una buena planeación de su tiempo le conduce a un bajo aprovechamiento del mismo. motivo por el cual en este trabajo terminal se pretende desarrollar una aplicación móvi l llamada wissescom que funja como auxiliar en la administración del tiempo que al alumno le sea posible destinar para realizar sus distintas actividades, con esto ayudará al alumno a mantenerlo informado de las actividades pendientes. wissescom estará basado en el modelo cliente – servidor para obtener información de los eventos que se realizarán en la escom. palabras clave - aplicación móvil, comunicación en red, administración del tiempo, ruta crítica. 1. introducción el tiempo para un estu diante de nivel superior es un factor importante que muchas veces resulta ser un problema, debido a que por falta de su correcta administración no se cumplen los objetivos deseados. generalmente como estudiantes disponemos de suficiente tiempo para lleva r a cabo las distintas actividades que se nos encomiendan, lo único que debemos hacer es administrar el tiempo de manera precisa para realizar estas misma s, lo cual en la mayoría de los casos es muy difícil para los estudiantes, puesto que no se aplican té cnicas adecuadas para administrar el tiempo disponible p ara terminar satisfactoriamente estas actividades . una correcta administración de las tareas nos ayudará a tener un mejor aprovechamiento del día, una manera de comenzar es clasificando las actividade s que se tienen que realizar con respecto a la importancia y urgencia, por ejemplo, como lo describe stephen covey en su libro los 7 hábitos de la gente altamente efectiva [7] el cual clasifica las tareas en i.- importante y urgente. asuntos que reclaman atención inmediata. ii.-importante, no urgente. planificamos a largo plazo, nos anticipamos y prevenimos los problemas iii.-urgente, no importante. suelen ser actividades que sirven para satisfacer las prioridades y expectativas de los demás. iv.-no urgente, no importante. tareas triviales como el correo spam, publicidad, café, pausas, conversaciones intrascendentes, etc. según el portal educando [2], para poder administrar el tiempo que tenemos para realizar las distintas actividades de forma exitos a es necesario, adquirir consciencia de cómo empleamos nuestro tiempo como recurso para organizar, priorizar y tener éxito en los estudios, en un contexto de actividades incompatibles como son los amigos, el trabajo, la familia, etc. para est o señala un gr upo de estrategias para un buen uso del tiempo: asignar bloques de tiempo para el estudio, planificar repasos y actualizaciones semanales, priorizar las tareas, asignar tiempo para las ocasiones especiales como trabajos, ponencias, exáme nes, etc. ahora pe nsemos un momento si aplicamos todo lo anterior y al mismo tiempo lo llevamos a algo más tecnológico como una aplicación móvil, que podamos llevar en el celular y podamos acceder a ella de una manera fácil para poder ver en cualquier momento cuales son nue stras actividades pendientes, sabemos que las aplicaciones móviles últimamente están en su máximo punto. 2 aplicaciones similares : my study life. nos permite gestionar desde las tareas que tenemos pendientes hasta los exámenes de cada asignatura. todo ello de una forma detallada y minuciosa, porque todos sabemos que ese trabajo aparentemente sencillo puede acabar convirtiéndose en algo mucho más complejo con el paso del tiempo. esencial para cualquier estudiante, por ejemplo, podemos detallar el progres o de determinada tarea o el contenido interno de la misma, además de la asignatura a la que corresponde, la fecha de entrega y otros datos relacionados con esta. caso similar encontramos con los exámenes, los cuales además, podemos visualizarlos rápidament e en forma de calendario, lo que nos facilita enormemente la distribución de nuestro tiempo de estudi o. timetable. en la aplicación podemos guardar nuestro horario de clases, asignando colores a cada asignatura e información útil como en qu é aula se imparte y el nombre del profesor. podemos ver nuestro horario por vista por día o por semana, guardar las tareas que tenemos que tener listas para un día y mar car en la agenda las fechas de los exámenes y los días festivos. en la vista principal de timetab le veremos cuál es la próxima clase a la que tenemos que asistir y las próximas tareas y exámenes. timetable nos permite sincronizar los datos con todos nuestros dispositivos android, configurar la duración del horario y los ciclos de la semana, y activar las notificaciones para que nos avise el móvil de la próxima clase, tarea y exámenes. además, la aplicación cuenta con tres temas para personalizar la interfaz y widgets para ver en el escritorio de nuestro android nuestra s tareas pendientes y el horario. la aplicación es gratuita. any.do una de las mejores herramientas para armar listas de tareas, es any.do . la aplicación tiene un diseño limpio y fácil de usar, puedes subir archivos, poner recordatorios, agregar tareas recurrentes, hacer una planificación diaria y puedes compartir y delegar todo lo que sea necesario, lo que será excelente para cuando necesites trabajar en equipo. otra cosa, any.do es multiplatafor ma, así que podrás usarlo en android y en otros sistemas operativos. studious studious es una aplicación hecha para que cualquier estudiante se pueda organizar de la mejor manera posible. con ella podrás programar tu móv il para que se ponga en silencio automáticamente cuando llegues a clases. también podrás programar cuándo debes entregar asignaciones y cuando tienes exámenes. hasta podrás anotar cuándo y qué clases tienen durante la semana. tabla 1. comparación de aplicaciones 3 wissescom se basará en las técnicas anteriormente mencionadas para ayudar al estudiante a administrar su tiempo en el desarrollo de sus distintas actividades, inicialmente se le podrá dar de alta un horario y con base en éste se organizan sus tiempos. la aplicación le brindará al estudiante las siguientes funciones: ● hora rio de clases. permitirá visualizar el horario de clases. ● dar de alta un evento (tarea, examen, proyecto, reunión, etc). cuenta con nombre de asignatura, una descripción y el periodo en el que se llevará a cabo. ● enviar correos. se podrán enviar tareas escolares desde correo electrónico. ● notificaciones. notificará de los eventos futuros y presentes. ● horario saes. la aplicación podrá sugerirle los horarios que se ajusten a sus necesidades con base en la disponibilidad del tiempo del alumno y un rankin g de profesores basado en la opinión de los alumnos, el cual se divi de en tre s características : ○ complejidad del curso. - dificultad de las prácticas, tareas y proyectos. ○ compromiso con sus alumnos. - cumplir con los horarios de asesoría , asistir constante y procurar el aprendizaje con los alumnos. ○ dominio del temario. - la facilidad que tiene para enseñar los temas y amplio conocimiento de los temas. ● servidor. un agente que enviará notificaciones sobre los eventos que se llevarán a cabo en escom. (semana cul tural, fechas de reinscripción, días festivos, pláticas informativas, etc). dicho esto podemos decir que tendremos 2 módulos principales , cliente (figura 1 ) y servidor (figura 2). se muestra gráficamente. figur a 1. diagrama de bloques del cliente 4 figura 2. diagrama de bloques del servidor 2. objetivo. implementar una herramienta mediante una aplicación móvil en android que funja como auxiliar para los estudiantes de la escuela superior de cómputo para administ rar sus distintas actividades académicas en un periodo de tiempo. 3. justificación. los estudiantes universitarios en la mayoría de los casos tenemos el tiempo suficiente para realizar nuestras actividades, si n embargo algunos realizan más cosas que otros, la pregunta es ¿a qué se debe esto? algunas personas no saben administrar su día de una forma adecuada debido a que dedican demasiado tiempo en actividades que no lo requieren, o por el contrario, realizando infinid ad de tareas, en el cual se podrían priorizar actividades con el fin de ser más productivo, otra problemátic as la falta de memoria, en estos días las distracciones son muchas y es difícil concentrarse solo en la escuela, y tiende a ser fácil olvidar los pendientes que tenemos, como por ejemplo, las tareas son recordadas un día o quizá unas horas antes de la fecha de su entrega. a veces parece que 24 horas no son suficientes, desearíamos tener más tiempo para realizar nuestras tareas, terminar trabajos, estudiar para exámenes, acudir a las actividades que se llevan a cabo en nuestra escuela, dormir y nuestra vida s ocial. una problemática que se presenta en escom en las fechas de inscripción es el armado de horarios, la página saes tiene solo filtros básicos de búsqueda, y aun así , el alumno tiene que buscar entre todos estos las opciones que le convenga y esta a ctividad quita mucho tiempo, si pudiéramos realizar esta tarea desde un dispositivo móvil sería má s cómodo el realizar este proceso, y si, mejor aún nos muestra las opciones de los horarios y materias que se adecuan a nuestro s intereses , nos ahorraríamos mucho tiempo de búsqueda y selección. 5 hoy en día más del 80% de los mexicanos cuenta con un celular y el 70% de estos es muy probable que sea un smartphone, de los cuales la mayo ría tiene un sistema operativo a ndroid [3][4]. una aplicación que te ayude a administrar tus actividades académicas puede ser la solución a todos los problemas que conlleva una mala administración de nuestras 24 horas al día, y en tiempos de inscripción sería un alivio que nos mostrará los horarios que solo nos interesan. existe n aplicaciones que te ayudan a organizar tus tareas y eventos pero a diferencia de estas, nuestra aplicación se basa en el uso de la matriz de administración de tiempo[7], permite que el estudiante elija la importancia que se le va a dar a cada tar ea y además en tiempos de inscripción el alumno tendrá acceso a los horarios que se presentan en el saes mostrando sólo los que sean de su interés, además de que notificará de los eventos que se están llevando a cabo en la escuela superior de cómputo. en este t rabajo se aplican conocimientos adquiridos durante la carrera tales como programación de dispositivos móviles (con un sistema operativo android), algoritmos de búsqueda, comunicación en redes, métodos cuantitativos para la toma de decisione s y bases de d atos. 4. productos o resultados esperados. 1. una aplicación móvil desarrollada en android que le facilite al alumno la organización de sus tiempos a lo largo del día, además que le esté notific ando sobre cada evento que se vaya presentando en las horas indicadas. 2. una página web la cual tomara el papel de servidor, su principal tarea será auxilia r a ésta aplicación donde el administrador tendrá la tarea de notificar los eventos que sucedan en el calendario escolar de escom. 3. documentación: • manual de usuario. • reporte técnico. • página web (administrador ). • app en android (usuarios) . 5. metodología. para el desarrollo de esta aplicación se usará una metodología ágil llamada adaptive software development (asd ). sus principales características son: iterativo, orientado a los componentes software más que a las tareas y tolerante a los cambios [ 1]. el ciclo de vida que se propone tiene tres fases esenciales: ● especulación. se inicia el proyecto y se planifican las características del software. ● colaboración. desarrollan las características del software. ● aprendizaje. se revisa su calidad, y se entrega al cliente. 6 figura 3. ciclo de vida de la metodología asd. se consideró utilizar esta metodología por lo siguien te: el prototipo de la aplicación debe ser construido en poco tiempo, puesto que esta metodología apunta hacia el rapid application development (rad) , el cual enfatiza velocidad de desarrollo para crear un producto de alta calidad [1], con esto pretendemos tener una aplicación “hueca” para su posterior desarrollo en una serie de tres iteracio nes y así poder visualizar de manera más puntual los requerimientos de la misma gracias a que esta metodología nos permitirá aprender de los errores y así corregirlo s. además reduce el riesgo de construir productos que no satisfagan las necesidades de los usuarios. al terminar la tercera iteración tendremos la aplicación terminada. debido a que la aplicación se divide en cliente y servidor de esta misma manera decidimos dividir las tareas de cada alumno, aquí se muestra el diagrama de actividades por alumno. 7 6. cronograma. los cronogramas de acuerdo a la metodología seleccionada son: nombre del alumno(a): barrón cerón luis eduardo no. tt: título del tt: organización de las actividades académicas del alumno en escom mediante una aplicación móvil en android . actividad ene feb mar abr may jun ago sep oct nov dic análisis de los requerimientos de la aplicación diseño de la interfaz de la aplicación diseño de la lógica de la aplicación presentación tt1 desarrollo de la lógica de la aplicación desarrollo de la interfaz de la aplicación análisis y corrección de errores conexión con los módulos del servidor análisis y corrección de errores diseño de módulos que complementan la aplicación codificación de los módulos de complementación análisis y corrección de errores implementación y pruebas del producto final tt2 presentación final generación del manual de usuario. generación el reporte técnico. 8 nombre del alumno(a): sosa sierra andrés no. tt: título del tt: organización de las actividades académicas del alumno en escom mediante una aplicación móvil en android. actividad ene feb mar abr may jun ago sep oct nov dic análisis de los requerimientos para las funciones del servidor diseño de algoritmos de difusión de eventos diseño de algoritmos de búsqueda para horarios desarrollo prototipo página web presentación tt1 análisis y corrección de errores codificación de algoritmos de difusión de eventos análisis y corrección de errores codificación de algoritmos de búsqueda análisis y corrección de errores diseño de módulos que complementan la aplicación codificación de los módulos de complementación implementación y pruebas. generación del manual de usuario. generación el reporte técnico. tt2 presentación final 9 7. referencias : [1] martin fowler ,the new methodology,[en línea],13 december 2005,[fecha de consulta: 6 octubre 2015], disponible en http://www.martinfowler.com/articles/newmethodology.html > [2] administración del tiempo, (s. f.), recuperado el 3 de octubre de 2015, de http://www.educando.edu.do/articulos/estudiante/administracin -del-tiempo/ [3] martínez a.(13 de mayo de 2014). mexicanos compran celulares de lujo pero los usan con wifi. el financiero. recuperado de http://www.elfinanciero.com.mx/tech/mexicanos -compran -smartphones -de-lujo-pero-los-usan-con-wifi.html . [4]sánchez o.j.(26 de enero del 2012). tendrán smartphone 7 de cada 10 mexicanos. el economista. recuperado de http://eleconomista.com.mx/tecnociencia/2012/01/26/tendran -smartphone -7-cada-10-mexicanos . [5] kendall & kendall. (2011). análisis y diseño de sistemas. méxico: pearson. [6] roger s. pressman. (2010). ingeniería de software un enfoque práctico. méxico: mc grawhill. [7]sean covey. (2006). los 7 hábitos de la gente altamente efecti va. nueva york: bestseller. [8]galicia.c..v.l(2006). la administración del tiempo y sus implicaciones en el desarrollo de las tesis de grado (m. en c.). se pi esca casco de santo tomás.(méxico). [9] santana o. a.(2011). una infraestructura de comunicaciones cliente -servidor para aplicaciones móviles (m. en c. de la ingeniería de cómputo) .cic laboratorio de mecatrónica y embebidos (méxico) . 10 8. alumnos y \n"
     ]
    },
    {
     "ename": "IndexError",
     "evalue": "list index out of range",
     "output_type": "error",
     "traceback": [
      "\u001b[1;31m---------------------------------------------------------------------------\u001b[0m",
      "\u001b[1;31mIndexError\u001b[0m                                Traceback (most recent call last)",
      "Cell \u001b[1;32mIn[31], line 17\u001b[0m\n\u001b[0;32m     15\u001b[0m num_tt_revisar\u001b[39m.\u001b[39mappend(get_ttnum(j))\n\u001b[0;32m     16\u001b[0m keywords_revisar\u001b[39m.\u001b[39mappend(get_keywords(j))\n\u001b[1;32m---> 17\u001b[0m directores_revisar\u001b[39m.\u001b[39mappend(get_director(j))\n\u001b[0;32m     18\u001b[0m areas_interes_revisar\u001b[39m.\u001b[39mappend(get_areas(j))\n\u001b[0;32m     19\u001b[0m abstracts_revisar\u001b[39m.\u001b[39mappend(get_abstract(j))\n",
      "Cell \u001b[1;32mIn[30], line 51\u001b[0m, in \u001b[0;36mget_director\u001b[1;34m(text)\u001b[0m\n\u001b[0;32m     49\u001b[0m \u001b[39m# eliminar texto antes de :\u001b[39;00m\n\u001b[0;32m     50\u001b[0m text \u001b[39m=\u001b[39m text\u001b[39m.\u001b[39msplit(\u001b[39m'\u001b[39m\u001b[39m:\u001b[39m\u001b[39m'\u001b[39m)\n\u001b[1;32m---> 51\u001b[0m text \u001b[39m=\u001b[39m text[\u001b[39m1\u001b[39;49m]\n\u001b[0;32m     52\u001b[0m \u001b[39m#eliminar :\u001b[39;00m\n\u001b[0;32m     53\u001b[0m text \u001b[39m=\u001b[39m text\u001b[39m.\u001b[39mreplace(\u001b[39m'\u001b[39m\u001b[39m:\u001b[39m\u001b[39m'\u001b[39m, \u001b[39m'\u001b[39m\u001b[39m'\u001b[39m)\n",
      "\u001b[1;31mIndexError\u001b[0m: list index out of range"
     ]
    }
   ],
   "source": [
    "titulos_revisar = []\n",
    "num_tt_revisar = []\n",
    "abstracts_revisar = []\n",
    "keywords_revisar = []\n",
    "directores_revisar = []\n",
    "areas_interes_revisar = []\n",
    "objetivos_revisar = []\n",
    "objetivos_especificos_revisar=[]\n",
    "index=1\n",
    "\n",
    "for j in text_revisar:\n",
    "    print(f\"{index}/{len(pdf_files_revisar)}\", end=\"\\r\")\n",
    "\n",
    "    titulos_revisar.append(get_title(j))\n",
    "    num_tt_revisar.append(get_ttnum(j))\n",
    "    keywords_revisar.append(get_keywords(j))\n",
    "    directores_revisar.append(get_director(j))\n",
    "    areas_interes_revisar.append(get_areas(j))\n",
    "    abstracts_revisar.append(get_abstract(j))\n",
    "    \n",
    "    objetivos_revisar.append(get_objetivo(j))\n",
    "    objetivos_especificos_revisar.append(get_objetivos_especificos(j))\n",
    "    index+=1"
   ]
  },
  {
   "cell_type": "code",
   "execution_count": null,
   "metadata": {},
   "outputs": [
    {
     "data": {
      "text/html": [
       "<div>\n",
       "<style scoped>\n",
       "    .dataframe tbody tr th:only-of-type {\n",
       "        vertical-align: middle;\n",
       "    }\n",
       "\n",
       "    .dataframe tbody tr th {\n",
       "        vertical-align: top;\n",
       "    }\n",
       "\n",
       "    .dataframe thead th {\n",
       "        text-align: right;\n",
       "    }\n",
       "</style>\n",
       "<table border=\"1\" class=\"dataframe\">\n",
       "  <thead>\n",
       "    <tr style=\"text-align: right;\">\n",
       "      <th></th>\n",
       "      <th>titulo</th>\n",
       "      <th>N_TT</th>\n",
       "      <th>keywords</th>\n",
       "      <th>abstract</th>\n",
       "    </tr>\n",
       "  </thead>\n",
       "  <tbody>\n",
       "    <tr>\n",
       "      <th>0</th>\n",
       "      <td>prototipo de aplicación móvil para temas de f ...</td>\n",
       "      <td>2019-B037</td>\n",
       "      <td>[realidad aumentada, m -learning, física mecán...</td>\n",
       "      <td>la propuesta consiste en el desarrollo de una ...</td>\n",
       "    </tr>\n",
       "    <tr>\n",
       "      <th>1</th>\n",
       "      <td>framework para la implementación de interfaz g...</td>\n",
       "      <td>2019-A053</td>\n",
       "      <td>[framework, c++]</td>\n",
       "      <td>el propósito de este trabajo terminal es progr...</td>\n",
       "    </tr>\n",
       "    <tr>\n",
       "      <th>2</th>\n",
       "      <td>monedero electronico para cafeterias escolares...</td>\n",
       "      <td>-</td>\n",
       "      <td>[sistema embebido, aplicación móvil, tecnológi...</td>\n",
       "      <td>en el presente trabajo se propone implementar ...</td>\n",
       "    </tr>\n",
       "    <tr>\n",
       "      <th>3</th>\n",
       "      <td>herramienta para la creación de un entorno per...</td>\n",
       "      <td>-</td>\n",
       "      <td>[pedagogía, desarrollo web]</td>\n",
       "      <td>con este trabajo terminal (tt) se pretende cre...</td>\n",
       "    </tr>\n",
       "    <tr>\n",
       "      <th>4</th>\n",
       "      <td>software de evaluación de datos de espectromet...</td>\n",
       "      <td>2016-B015</td>\n",
       "      <td>[análisis de señales]</td>\n",
       "      <td>este trabajo tiene la finalidad de crear un so...</td>\n",
       "    </tr>\n",
       "  </tbody>\n",
       "</table>\n",
       "</div>"
      ],
      "text/plain": [
       "                                              titulo       N_TT  \\\n",
       "0  prototipo de aplicación móvil para temas de f ...  2019-B037   \n",
       "1  framework para la implementación de interfaz g...  2019-A053   \n",
       "2  monedero electronico para cafeterias escolares...          -   \n",
       "3  herramienta para la creación de un entorno per...          -   \n",
       "4  software de evaluación de datos de espectromet...  2016-B015   \n",
       "\n",
       "                                            keywords  \\\n",
       "0  [realidad aumentada, m -learning, física mecán...   \n",
       "1                                   [framework, c++]   \n",
       "2  [sistema embebido, aplicación móvil, tecnológi...   \n",
       "3                        [pedagogía, desarrollo web]   \n",
       "4                              [análisis de señales]   \n",
       "\n",
       "                                            abstract  \n",
       "0  la propuesta consiste en el desarrollo de una ...  \n",
       "1  el propósito de este trabajo terminal es progr...  \n",
       "2  en el presente trabajo se propone implementar ...  \n",
       "3  con este trabajo terminal (tt) se pretende cre...  \n",
       "4  este trabajo tiene la finalidad de crear un so...  "
      ]
     },
     "execution_count": 102,
     "metadata": {},
     "output_type": "execute_result"
    }
   ],
   "source": [
    "# guardar en un archivo de excel con las columnas titulo, N_TT, abstract, keywords, directores, objetivos\n",
    "df_tt = pd.DataFrame({'titulo': titulos , 'N_TT': num_tt, 'keywords':keywords, 'abstract':abstracts})\n",
    "df_tt.fillna('-', inplace=True)\n",
    "df_directores = pd.DataFrame({'Directores': directores, 'areas_interes':areas_interes})\n",
    "df_directores.fillna('-', inplace=True)\n",
    "# save the dataframe in a excel with the name \"extraccion\"\n",
    "df_tt.to_excel('extraccion.xlsx', index=False)\n",
    "df_directores.to_excel('directores.xlsx', index=False)\n",
    "\n",
    "df_tt.head()"
   ]
  },
  {
   "cell_type": "code",
   "execution_count": null,
   "metadata": {},
   "outputs": [
    {
     "data": {
      "text/html": [
       "<div>\n",
       "<style scoped>\n",
       "    .dataframe tbody tr th:only-of-type {\n",
       "        vertical-align: middle;\n",
       "    }\n",
       "\n",
       "    .dataframe tbody tr th {\n",
       "        vertical-align: top;\n",
       "    }\n",
       "\n",
       "    .dataframe thead th {\n",
       "        text-align: right;\n",
       "    }\n",
       "</style>\n",
       "<table border=\"1\" class=\"dataframe\">\n",
       "  <thead>\n",
       "    <tr style=\"text-align: right;\">\n",
       "      <th></th>\n",
       "      <th>Directores</th>\n",
       "      <th>areas_interes</th>\n",
       "    </tr>\n",
       "  </thead>\n",
       "  <tbody>\n",
       "    <tr>\n",
       "      <th>0</th>\n",
       "      <td>[ruíz ledesma elena fabiola]</td>\n",
       "      <td>-</td>\n",
       "    </tr>\n",
       "    <tr>\n",
       "      <th>1</th>\n",
       "      <td>[pescador rojas miriam, coronilla contreras uk...</td>\n",
       "      <td>-</td>\n",
       "    </tr>\n",
       "    <tr>\n",
       "      <th>2</th>\n",
       "      <td>[amadeo josé argüelles cruz, alfredo rangel gu...</td>\n",
       "      <td>[[sistemas embebidos, inteligencia artificial,...</td>\n",
       "    </tr>\n",
       "    <tr>\n",
       "      <th>3</th>\n",
       "      <td>[carreto arellano chadwick bustos farías eduardo]</td>\n",
       "      <td>[[cómputo móvil, redes], [gestión de ambientes...</td>\n",
       "    </tr>\n",
       "    <tr>\n",
       "      <th>4</th>\n",
       "      <td>[tonáhtiu arturo ramírez romero miguel hesiqui...</td>\n",
       "      <td>[[inteligencia artificial, bases de datos, des...</td>\n",
       "    </tr>\n",
       "  </tbody>\n",
       "</table>\n",
       "</div>"
      ],
      "text/plain": [
       "                                          Directores  \\\n",
       "0                       [ruíz ledesma elena fabiola]   \n",
       "1  [pescador rojas miriam, coronilla contreras uk...   \n",
       "2  [amadeo josé argüelles cruz, alfredo rangel gu...   \n",
       "3  [carreto arellano chadwick bustos farías eduardo]   \n",
       "4  [tonáhtiu arturo ramírez romero miguel hesiqui...   \n",
       "\n",
       "                                       areas_interes  \n",
       "0                                                  -  \n",
       "1                                                  -  \n",
       "2  [[sistemas embebidos, inteligencia artificial,...  \n",
       "3  [[cómputo móvil, redes], [gestión de ambientes...  \n",
       "4  [[inteligencia artificial, bases de datos, des...  "
      ]
     },
     "execution_count": 103,
     "metadata": {},
     "output_type": "execute_result"
    }
   ],
   "source": [
    "df_directores.head()"
   ]
  },
  {
   "cell_type": "code",
   "execution_count": 1,
   "metadata": {},
   "outputs": [
    {
     "ename": "NameError",
     "evalue": "name 'df_tt' is not defined",
     "output_type": "error",
     "traceback": [
      "\u001b[1;31m---------------------------------------------------------------------------\u001b[0m",
      "\u001b[1;31mNameError\u001b[0m                                 Traceback (most recent call last)",
      "Cell \u001b[1;32mIn[1], line 9\u001b[0m\n\u001b[0;32m      6\u001b[0m titulos_lema \u001b[39m=\u001b[39m []\n\u001b[0;32m      7\u001b[0m tags \u001b[39m=\u001b[39m [\u001b[39m'\u001b[39m\u001b[39mNOUN\u001b[39m\u001b[39m'\u001b[39m, \u001b[39m'\u001b[39m\u001b[39mVERB\u001b[39m\u001b[39m'\u001b[39m, \u001b[39m'\u001b[39m\u001b[39mADJ\u001b[39m\u001b[39m'\u001b[39m, \u001b[39m'\u001b[39m\u001b[39mADV\u001b[39m\u001b[39m'\u001b[39m]\n\u001b[1;32m----> 9\u001b[0m \u001b[39mfor\u001b[39;00m i \u001b[39min\u001b[39;00m df_tt[\u001b[39m'\u001b[39m\u001b[39mtitulo\u001b[39m\u001b[39m'\u001b[39m]:\n\u001b[0;32m     10\u001b[0m     doc \u001b[39m=\u001b[39m nlp(i)\n\u001b[0;32m     11\u001b[0m     \u001b[39m# para cada token en el doc \u001b[39;00m\n",
      "\u001b[1;31mNameError\u001b[0m: name 'df_tt' is not defined"
     ]
    }
   ],
   "source": [
    "import spacy\n",
    "from spacy.lang.es.examples import sentences \n",
    "# !python -m spacy download es_core_news_sm\n",
    "nlp = spacy.load(\"es_core_news_sm\")\n",
    "\n",
    "titulos_lema = []\n",
    "tags = ['NOUN', 'VERB', 'ADJ', 'ADV']\n",
    "\n",
    "for i in df_tt['titulo']:\n",
    "    doc = nlp(i)\n",
    "    # para cada token en el doc \n",
    "    titulo_aux = ''\n",
    "    for token in doc:\n",
    "        # lematizar el token\n",
    "        if token.pos_ in tags:\n",
    "            titulo_aux += token.lemma_ + ' '\n",
    "    titulos_lema.append(titulo_aux)\n",
    "titulos_lema   \n",
    "            "
   ]
  }
 ],
 "metadata": {
  "kernelspec": {
   "display_name": "base",
   "language": "python",
   "name": "python3"
  },
  "language_info": {
   "codemirror_mode": {
    "name": "ipython",
    "version": 3
   },
   "file_extension": ".py",
   "mimetype": "text/x-python",
   "name": "python",
   "nbconvert_exporter": "python",
   "pygments_lexer": "ipython3",
   "version": "3.10.8"
  },
  "orig_nbformat": 4,
  "vscode": {
   "interpreter": {
    "hash": "b350b301ab686cc38c89757293f17f33d256656378ea8ac36012022ad524cef5"
   }
  }
 },
 "nbformat": 4,
 "nbformat_minor": 2
}
