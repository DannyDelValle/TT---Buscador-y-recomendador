{
 "cells": [
  {
   "cell_type": "code",
   "execution_count": 44,
   "metadata": {},
   "outputs": [
    {
     "name": "stdout",
     "output_type": "stream",
     "text": [
      "['c:\\\\Users\\\\jddel\\\\.vscode\\\\TT-Buscador-y-recomendador\\\\protocolo_prueba.pdf']\n"
     ]
    }
   ],
   "source": [
    "import os\n",
    "import glob\n",
    "import re\n",
    "import pandas as pd\n",
    "import numpy as np\n",
    "import PyPDF2\n",
    "\n",
    "path = os.getcwd()\n",
    "pdf_files = glob.glob(path + \"/*.pdf\")\n",
    "print((pdf_files))"
   ]
  },
  {
   "cell_type": "code",
   "execution_count": 3,
   "metadata": {},
   "outputs": [
    {
     "name": "stdout",
     "output_type": "stream",
     "text": [
      "No OCR tool found\n"
     ]
    },
    {
     "ename": "IndexError",
     "evalue": "list index out of range",
     "output_type": "error",
     "traceback": [
      "\u001b[1;31m---------------------------------------------------------------------------\u001b[0m",
      "\u001b[1;31mIndexError\u001b[0m                                Traceback (most recent call last)",
      "Cell \u001b[1;32mIn[3], line 13\u001b[0m\n\u001b[0;32m     11\u001b[0m     \u001b[39mprint\u001b[39m(\u001b[39m\"\u001b[39m\u001b[39mNo OCR tool found\u001b[39m\u001b[39m\"\u001b[39m)\n\u001b[0;32m     12\u001b[0m     \u001b[39m# The tools are returned in the recommended order of \u001b[39;00m\n\u001b[1;32m---> 13\u001b[0m tool \u001b[39m=\u001b[39m tools[\u001b[39m0\u001b[39;49m]\n\u001b[0;32m     14\u001b[0m \u001b[39mprint\u001b[39m(\u001b[39m\"\u001b[39m\u001b[39mWill use tool \u001b[39m\u001b[39m'\u001b[39m\u001b[39m%s\u001b[39;00m\u001b[39m'\u001b[39m\u001b[39m\"\u001b[39m \u001b[39m%\u001b[39m (tool\u001b[39m.\u001b[39mget_name()))\n\u001b[0;32m     15\u001b[0m \u001b[39m# Ex: Will use tool 'libtesseract'\u001b[39;00m\n",
      "\u001b[1;31mIndexError\u001b[0m: list index out of range"
     ]
    }
   ],
   "source": [
    "import io\n",
    "from PIL import Image\n",
    "from PyPDF2 import PdfReader\n",
    "from PIL import ImageEnhance\n",
    "from PIL import ImageFilter\n",
    "import pyocr\n",
    "import pyocr.builders\n",
    "\n",
    "tools = pyocr.get_available_tools()\n",
    "if len(tools) == 0:\n",
    "    print(\"No OCR tool found\")\n",
    "    # The tools are returned in the recommended order of \n",
    "tool = tools[0]\n",
    "print(\"Will use tool '%s'\" % (tool.get_name()))\n",
    "# Ex: Will use tool 'libtesseract'\n",
    "langs = tool.get_available_languages()\n",
    "print(\"Available languages: %s\" % \", \".join(langs))\n",
    "lang = langs[2]\n",
    "print(\"Will use lang '%s'\" % (lang))\n",
    "\n",
    "# abrir el PDF escaneado\n",
    "with open('protocolo_prueba.pdf', 'rb') as file:\n",
    "    # crear un objeto PdfFileReader\n",
    "    pdf_reader = PdfReader(file)\n",
    "\n",
    "    # leer la primera página del PDF y convertirla en una imagen\n",
    "    page = pdf_reader.pages[0]\n",
    "    text = page.extract_text()\n",
    "    xObject = page['/Resources']['/XObject'].get_object()\n",
    "    # Iterar sobre los objetos XObject hasta encontrar la imagen\n",
    "    image = None\n",
    "    for obj in xObject:\n",
    "        if xObject[obj]['/Subtype'] == '/Image':\n",
    "            # Obtener los datos de la imagen\n",
    "            image = xObject[obj]._data\n",
    "            # Crear una imagen PIL a partir de los datos\n",
    "            image = Image.open(io.BytesIO(image))\n",
    "\n",
    "            brightness = ImageEnhance.Brightness(image)\n",
    "            image = brightness.enhance(1.5)\n",
    "            image = image.filter(ImageFilter.SHARPEN)\n",
    "            contrast = ImageEnhance.Contrast(image)\n",
    "            image = contrast.enhance(1.5)\n",
    "            # Mostrar la imagen\n",
    "            image = image.convert('L')\n",
    "            image.show()\n",
    "            text += \"\\n\" + tool.image_to_string(image, lang='spa',builder=pyocr.builders.TextBuilder())\n",
    "\n",
    "    # imprimir el texto extraído del PDF\n",
    "    print(text)\n"
   ]
  },
  {
   "cell_type": "code",
   "execution_count": null,
   "metadata": {},
   "outputs": [],
   "source": [
    "def detect_text(path):\n",
    "    \"\"\"Detects text in the file.\"\"\"\n",
    "    from google.cloud import vision\n",
    "    import io\n",
    "    client = vision.ImageAnnotatorClient()\n",
    "\n",
    "    with io.open(path, 'rb') as image_file:\n",
    "        content = image_file.read()\n",
    "\n",
    "    image = vision.Image(content=content)\n",
    "\n",
    "    response = client.text_detection(image=image)\n",
    "    texts = response.text_annotations\n",
    "    print('Texts:')\n",
    "\n",
    "    for text in texts:\n",
    "        print('\\n\"{}\"'.format(text.description))\n",
    "\n",
    "        vertices = (['({},{})'.format(vertex.x, vertex.y)\n",
    "                    for vertex in text.bounding_poly.vertices])\n",
    "\n",
    "        print('bounds: {}'.format(','.join(vertices)))\n",
    "\n",
    "    if response.error.message:\n",
    "        raise Exception(\n",
    "            '{}\\nFor more info on error messages, check: '\n",
    "            'https://cloud.google.com/apis/design/errors'.format(\n",
    "                response.error.message))"
   ]
  }
 ],
 "metadata": {
  "kernelspec": {
   "display_name": "base",
   "language": "python",
   "name": "python3"
  },
  "language_info": {
   "codemirror_mode": {
    "name": "ipython",
    "version": 3
   },
   "file_extension": ".py",
   "mimetype": "text/x-python",
   "name": "python",
   "nbconvert_exporter": "python",
   "pygments_lexer": "ipython3",
   "version": "3.10.8"
  },
  "orig_nbformat": 4,
  "vscode": {
   "interpreter": {
    "hash": "b350b301ab686cc38c89757293f17f33d256656378ea8ac36012022ad524cef5"
   }
  }
 },
 "nbformat": 4,
 "nbformat_minor": 2
}
